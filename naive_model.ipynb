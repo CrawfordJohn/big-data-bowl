{
 "cells": [
  {
   "cell_type": "code",
   "execution_count": 1,
   "metadata": {},
   "outputs": [],
   "source": [
    "import pandas as pd\n",
    "import numpy as np\n",
    "import matplotlib.pyplot as plt\n",
    "import seaborn as sns"
   ]
  },
  {
   "cell_type": "code",
   "execution_count": 2,
   "metadata": {},
   "outputs": [],
   "source": [
    "player_play = pd.read_csv('data/player_play.csv')\n",
    "player_tracking = pd.read_csv('data/tracking_week_1.csv')\n",
    "plays = pd.read_csv('data/plays.csv')\n",
    "players = pd.read_csv('data/players.csv')"
   ]
  },
  {
   "cell_type": "code",
   "execution_count": 3,
   "metadata": {},
   "outputs": [],
   "source": [
    "player_play['causedPressure'] = player_play['causedPressure'].astype(int)\n",
    "pressure_on_play = player_play.groupby(['gameId', 'playId'])['causedPressure'].max().reset_index() #binary column to indicate whether there was at least one pressure on the play\n",
    "data = pd.merge(pressure_on_play, plays, on = ['gameId', 'playId'], how='left')\n",
    "model_data = data[(data['isDropback']) & (data['qbSpike'] != True)] #only passing plays (plays where qb had a dropback)"
   ]
  },
  {
   "cell_type": "code",
   "execution_count": 4,
   "metadata": {},
   "outputs": [
    {
     "data": {
      "text/plain": [
       "causedPressure\n",
       "0    6448\n",
       "1    3265\n",
       "Name: count, dtype: int64"
      ]
     },
     "execution_count": 4,
     "metadata": {},
     "output_type": "execute_result"
    }
   ],
   "source": [
    "model_data['causedPressure'].value_counts()"
   ]
  },
  {
   "cell_type": "code",
   "execution_count": 5,
   "metadata": {},
   "outputs": [],
   "source": [
    "model_data.to_csv('model_data.csv', index=False)"
   ]
  },
  {
   "cell_type": "code",
   "execution_count": 28,
   "metadata": {},
   "outputs": [],
   "source": [
    "tracking_raw = pd.read_csv('data/tracking_week_1.csv')"
   ]
  },
  {
   "cell_type": "code",
   "execution_count": 29,
   "metadata": {},
   "outputs": [],
   "source": [
    "tracking = pd.merge(tracking_raw, plays.loc[:, ['gameId', 'playId', 'absoluteYardlineNumber']], on = ['gameId', 'playId'], how='left')"
   ]
  },
  {
   "cell_type": "code",
   "execution_count": 31,
   "metadata": {},
   "outputs": [],
   "source": [
    "def set_up_tracking(tracking_data):\n",
    "    #Set up tracking data\n",
    "    tracking_pre_snap = tracking_data[tracking_data['frameType'] == \"BEFORE_SNAP\"]\n",
    "    tracking_pre_snap = pd.merge(tracking_pre_snap, plays[['gameId', 'playId', 'isDropback']], on = ['gameId', 'playId'], how = 'inner')\n",
    "    tracking_pre_snap = tracking_pre_snap[tracking_pre_snap['isDropback']]\n",
    "\n",
    "    tracking_pre_snap = tracking_pre_snap.groupby(['gameId', 'playId', 'nflId']).last().reset_index()\n",
    "    #add player positions to filter out defensive backs\n",
    "    positions = players[['nflId', 'position']]\n",
    "    tracking_pre_snap = pd.merge(tracking_pre_snap, positions, on = 'nflId', how='inner')\n",
    "    #find vertical distance between player and football\n",
    "    tracking_pre_snap['distance_from_line'] = np.abs(tracking_pre_snap['x'] - tracking_pre_snap['absoluteYardlineNumber'])\n",
    "    return tracking_pre_snap"
   ]
  },
  {
   "cell_type": "code",
   "execution_count": 32,
   "metadata": {},
   "outputs": [],
   "source": [
    "def create_linspread_feature(model_data, tracking_pre_snap):\n",
    "    \"\"\"\n",
    "    Takes tracking data and calculates the spread among defensive lineman before the snap and returns this as a feature in the overall model_data\n",
    "    \"\"\"\n",
    "    tracking_pre_snap = tracking_pre_snap[tracking_pre_snap['position'].isin(['DE', 'NT', 'SS', 'FS', 'OLB', 'DT', 'CB', 'ILB', 'MLB', 'DB', 'LB'])]\n",
    "    #filter out DBs and have other players need to be within 1.5 yards of the ball to be determined on the line\n",
    "    line_spread = tracking_pre_snap.loc[(tracking_pre_snap['distance_from_line'] <= 2) & ~(tracking_pre_snap['position'].isin(['SS', 'FS', 'DB', 'CB']))]\n",
    "    #find minimum horziontal and maximum horizontal position of filtered lineman\n",
    "    spread = line_spread.groupby(['gameId', 'playId'])['y'].agg(['max', 'min']).reset_index()\n",
    "    #calculate dline spread\n",
    "    spread['dlinespread'] = spread['max'] - spread['min']\n",
    "    model_data = pd.merge(model_data, spread.loc[:,['gameId', 'playId', 'dlinespread']], on = ['gameId', 'playId'], how='left')\n",
    "    return model_data"
   ]
  },
  {
   "cell_type": "code",
   "execution_count": 37,
   "metadata": {},
   "outputs": [
    {
     "data": {
      "text/plain": [
       "array(['G', 'ILB', 'DT', 'C', 'WR', 'CB', 'DE', 'T', 'QB', 'SS', 'RB',\n",
       "       'TE', 'NT', 'FS', 'OLB', 'FB', 'MLB', 'DB', 'LB'], dtype=object)"
      ]
     },
     "execution_count": 37,
     "metadata": {},
     "output_type": "execute_result"
    }
   ],
   "source": [
    "tracking_df['position'].unique()"
   ]
  },
  {
   "cell_type": "code",
   "execution_count": 33,
   "metadata": {},
   "outputs": [],
   "source": [
    "tracking_df = set_up_tracking(tracking)"
   ]
  },
  {
   "cell_type": "code",
   "execution_count": 38,
   "metadata": {},
   "outputs": [],
   "source": [
    "lineman = tracking_df.loc[(tracking_df['distance_from_line'] <= 2) & (tracking_df['position'].isin(['DE', 'NT', 'OLB', 'DT', 'ILB', 'MLB', 'LB', 'G', 'C', 'T']))]"
   ]
  },
  {
   "cell_type": "code",
   "execution_count": 42,
   "metadata": {},
   "outputs": [],
   "source": [
    "position_dict = {\n",
    "    'G':1, 'DT':0, 'C':1, 'DE':0, 'T':1, 'NT':0, 'OLB':0, 'MLB':0, 'ILB':0, 'LB':0\n",
    "}"
   ]
  },
  {
   "cell_type": "code",
   "execution_count": 43,
   "metadata": {},
   "outputs": [
    {
     "name": "stderr",
     "output_type": "stream",
     "text": [
      "C:\\Users\\johng\\AppData\\Local\\Temp\\ipykernel_5168\\2317376222.py:1: SettingWithCopyWarning: \n",
      "A value is trying to be set on a copy of a slice from a DataFrame.\n",
      "Try using .loc[row_indexer,col_indexer] = value instead\n",
      "\n",
      "See the caveats in the documentation: https://pandas.pydata.org/pandas-docs/stable/user_guide/indexing.html#returning-a-view-versus-a-copy\n",
      "  lineman['is_offense'] = lineman['position'].map(position_dict)\n"
     ]
    }
   ],
   "source": [
    "lineman['is_offense'] = lineman['position'].map(position_dict)"
   ]
  },
  {
   "cell_type": "code",
   "execution_count": 53,
   "metadata": {},
   "outputs": [
    {
     "name": "stderr",
     "output_type": "stream",
     "text": [
      "C:\\Users\\johng\\AppData\\Local\\Temp\\ipykernel_5168\\3149982828.py:1: SettingWithCopyWarning: \n",
      "A value is trying to be set on a copy of a slice from a DataFrame.\n",
      "Try using .loc[row_indexer,col_indexer] = value instead\n",
      "\n",
      "See the caveats in the documentation: https://pandas.pydata.org/pandas-docs/stable/user_guide/indexing.html#returning-a-view-versus-a-copy\n",
      "  lineman['max_distance_to_offense'] = np.nan\n"
     ]
    }
   ],
   "source": [
    "lineman['max_distance_to_offense'] = np.nan\n",
    "for (game, play), play_df in lineman.groupby(['gameId', 'playId']):\n",
    "    offense = play_df[play_df['is_offense'] == 1]\n",
    "    defense = play_df[play_df['is_offense'] == 0]\n",
    "\n",
    "    offense_coords = offense[['x', 'y']].values\n",
    "    defense_coords = defense[['x', 'y']].values\n",
    "\n",
    "    distances = np.sqrt(\n",
    "            ((defense_coords[:, np.newaxis, 0] - offense_coords[:, 0]) ** 2) +\n",
    "            ((defense_coords[:, np.newaxis, 1] - offense_coords[:, 1]) ** 2)\n",
    "        )\n",
    "    \n",
    "    min_distances = distances.min(axis=1)\n",
    "\n",
    "    lineman.loc[defense.index, 'max_distance_to_offense'] = min_distances"
   ]
  },
  {
   "cell_type": "code",
   "execution_count": 54,
   "metadata": {},
   "outputs": [],
   "source": [
    "max_lineman_dist = lineman.groupby(['gameId', 'playId'])['max_distance_to_offense'].max().reset_index()"
   ]
  },
  {
   "cell_type": "code",
   "execution_count": 56,
   "metadata": {},
   "outputs": [],
   "source": [
    "model_data = pd.merge(model_data, max_lineman_dist, on =['gameId', 'playId'], how = 'left')"
   ]
  },
  {
   "cell_type": "code",
   "execution_count": 85,
   "metadata": {},
   "outputs": [],
   "source": [
    "model_data = create_linspread_feature(model_data, tracking)"
   ]
  },
  {
   "cell_type": "code",
   "execution_count": 88,
   "metadata": {},
   "outputs": [],
   "source": [
    "model_data['dlinespread_group'] = pd.qcut(model_data['dlinespread'], q=8)"
   ]
  },
  {
   "cell_type": "code",
   "execution_count": 54,
   "metadata": {},
   "outputs": [
    {
     "data": {
      "image/png": "[encoded data removed]",
      "text/plain": [
       "<Figure size 640x480 with 1 Axes>"
      ]
     },
     "metadata": {},
     "output_type": "display_data"
    }
   ],
   "source": [
    "sns.boxplot(x='causedPressure', y='dlinespread', data=model_data)\n",
    "plt.show()"
   ]
  },
  {
   "cell_type": "code",
   "execution_count": 57,
   "metadata": {},
   "outputs": [
    {
     "data": {
      "image/png": "[encoded data removed]",
      "text/plain": [
       "<Figure size 640x480 with 1 Axes>"
      ]
     },
     "metadata": {},
     "output_type": "display_data"
    }
   ],
   "source": [
    "sns.boxplot(x='causedPressure', y='max_distance_to_offense', data=model_data)\n",
    "plt.show()"
   ]
  },
  {
   "cell_type": "code",
   "execution_count": 31,
   "metadata": {},
   "outputs": [],
   "source": [
    "test = tracking_pre_snap[(tracking_pre_snap['gameId'] == 2022091200) & (tracking_pre_snap['playId'] == 3826)]"
   ]
  },
  {
   "cell_type": "code",
   "execution_count": 32,
   "metadata": {},
   "outputs": [
    {
     "name": "stderr",
     "output_type": "stream",
     "text": [
      "C:\\Users\\johng\\AppData\\Local\\Temp\\ipykernel_9120\\389045198.py:1: SettingWithCopyWarning: \n",
      "A value is trying to be set on a copy of a slice from a DataFrame.\n",
      "Try using .loc[row_indexer,col_indexer] = value instead\n",
      "\n",
      "See the caveats in the documentation: https://pandas.pydata.org/pandas-docs/stable/user_guide/indexing.html#returning-a-view-versus-a-copy\n",
      "  test['distance_from_line'] = np.abs(test['x'] - test['footballx'])\n"
     ]
    }
   ],
   "source": [
    "test['distance_from_line'] = np.abs(test['x'] - test['footballx'])"
   ]
  },
  {
   "cell_type": "code",
   "execution_count": 33,
   "metadata": {},
   "outputs": [
    {
     "data": {
      "text/html": [
       "<div>\n",
       "<style scoped>\n",
       "    .dataframe tbody tr th:only-of-type {\n",
       "        vertical-align: middle;\n",
       "    }\n",
       "\n",
       "    .dataframe tbody tr th {\n",
       "        vertical-align: top;\n",
       "    }\n",
       "\n",
       "    .dataframe thead th {\n",
       "        text-align: right;\n",
       "    }\n",
       "</style>\n",
       "<table border=\"1\" class=\"dataframe\">\n",
       "  <thead>\n",
       "    <tr style=\"text-align: right;\">\n",
       "      <th></th>\n",
       "      <th>gameId</th>\n",
       "      <th>playId</th>\n",
       "      <th>nflId</th>\n",
       "      <th>displayName</th>\n",
       "      <th>frameId</th>\n",
       "      <th>frameType</th>\n",
       "      <th>time</th>\n",
       "      <th>jerseyNumber</th>\n",
       "      <th>club</th>\n",
       "      <th>playDirection</th>\n",
       "      <th>...</th>\n",
       "      <th>dis</th>\n",
       "      <th>o</th>\n",
       "      <th>dir</th>\n",
       "      <th>event</th>\n",
       "      <th>isDropback</th>\n",
       "      <th>footballx</th>\n",
       "      <th>footbally</th>\n",
       "      <th>footballs</th>\n",
       "      <th>position</th>\n",
       "      <th>distance_from_line</th>\n",
       "    </tr>\n",
       "  </thead>\n",
       "  <tbody>\n",
       "    <tr>\n",
       "      <th>13365</th>\n",
       "      <td>2022091200</td>\n",
       "      <td>3826</td>\n",
       "      <td>41464.0</td>\n",
       "      <td>Shelby Harris</td>\n",
       "      <td>89</td>\n",
       "      <td>BEFORE_SNAP</td>\n",
       "      <td>2022-09-13 03:05:49.6</td>\n",
       "      <td>93.0</td>\n",
       "      <td>SEA</td>\n",
       "      <td>left</td>\n",
       "      <td>...</td>\n",
       "      <td>0.04</td>\n",
       "      <td>97.05</td>\n",
       "      <td>94.88</td>\n",
       "      <td>line_set</td>\n",
       "      <td>True</td>\n",
       "      <td>64.419998</td>\n",
       "      <td>29.889999</td>\n",
       "      <td>0.0</td>\n",
       "      <td>DT</td>\n",
       "      <td>0.519998</td>\n",
       "    </tr>\n",
       "    <tr>\n",
       "      <th>13368</th>\n",
       "      <td>2022091200</td>\n",
       "      <td>3826</td>\n",
       "      <td>43436.0</td>\n",
       "      <td>Quinton Jefferson</td>\n",
       "      <td>89</td>\n",
       "      <td>BEFORE_SNAP</td>\n",
       "      <td>2022-09-13 03:05:49.6</td>\n",
       "      <td>77.0</td>\n",
       "      <td>SEA</td>\n",
       "      <td>left</td>\n",
       "      <td>...</td>\n",
       "      <td>0.02</td>\n",
       "      <td>80.46</td>\n",
       "      <td>25.10</td>\n",
       "      <td>line_set</td>\n",
       "      <td>True</td>\n",
       "      <td>64.419998</td>\n",
       "      <td>29.889999</td>\n",
       "      <td>0.0</td>\n",
       "      <td>DE</td>\n",
       "      <td>0.279998</td>\n",
       "    </tr>\n",
       "    <tr>\n",
       "      <th>13373</th>\n",
       "      <td>2022091200</td>\n",
       "      <td>3826</td>\n",
       "      <td>52456.0</td>\n",
       "      <td>Darrell Taylor</td>\n",
       "      <td>89</td>\n",
       "      <td>BEFORE_SNAP</td>\n",
       "      <td>2022-09-13 03:05:49.6</td>\n",
       "      <td>52.0</td>\n",
       "      <td>SEA</td>\n",
       "      <td>left</td>\n",
       "      <td>...</td>\n",
       "      <td>0.01</td>\n",
       "      <td>126.31</td>\n",
       "      <td>56.81</td>\n",
       "      <td>line_set</td>\n",
       "      <td>True</td>\n",
       "      <td>64.419998</td>\n",
       "      <td>29.889999</td>\n",
       "      <td>0.0</td>\n",
       "      <td>OLB</td>\n",
       "      <td>0.649998</td>\n",
       "    </tr>\n",
       "    <tr>\n",
       "      <th>13374</th>\n",
       "      <td>2022091200</td>\n",
       "      <td>3826</td>\n",
       "      <td>54505.0</td>\n",
       "      <td>Boye Mafe</td>\n",
       "      <td>89</td>\n",
       "      <td>BEFORE_SNAP</td>\n",
       "      <td>2022-09-13 03:05:49.6</td>\n",
       "      <td>53.0</td>\n",
       "      <td>SEA</td>\n",
       "      <td>left</td>\n",
       "      <td>...</td>\n",
       "      <td>0.02</td>\n",
       "      <td>63.86</td>\n",
       "      <td>39.86</td>\n",
       "      <td>line_set</td>\n",
       "      <td>True</td>\n",
       "      <td>64.419998</td>\n",
       "      <td>29.889999</td>\n",
       "      <td>0.0</td>\n",
       "      <td>OLB</td>\n",
       "      <td>0.449998</td>\n",
       "    </tr>\n",
       "  </tbody>\n",
       "</table>\n",
       "<p>4 rows × 24 columns</p>\n",
       "</div>"
      ],
      "text/plain": [
       "           gameId  playId    nflId        displayName  frameId    frameType  \\\n",
       "13365  2022091200    3826  41464.0      Shelby Harris       89  BEFORE_SNAP   \n",
       "13368  2022091200    3826  43436.0  Quinton Jefferson       89  BEFORE_SNAP   \n",
       "13373  2022091200    3826  52456.0     Darrell Taylor       89  BEFORE_SNAP   \n",
       "13374  2022091200    3826  54505.0          Boye Mafe       89  BEFORE_SNAP   \n",
       "\n",
       "                        time  jerseyNumber club playDirection  ...   dis  \\\n",
       "13365  2022-09-13 03:05:49.6          93.0  SEA          left  ...  0.04   \n",
       "13368  2022-09-13 03:05:49.6          77.0  SEA          left  ...  0.02   \n",
       "13373  2022-09-13 03:05:49.6          52.0  SEA          left  ...  0.01   \n",
       "13374  2022-09-13 03:05:49.6          53.0  SEA          left  ...  0.02   \n",
       "\n",
       "            o    dir     event  isDropback  footballx  footbally footballs  \\\n",
       "13365   97.05  94.88  line_set        True  64.419998  29.889999       0.0   \n",
       "13368   80.46  25.10  line_set        True  64.419998  29.889999       0.0   \n",
       "13373  126.31  56.81  line_set        True  64.419998  29.889999       0.0   \n",
       "13374   63.86  39.86  line_set        True  64.419998  29.889999       0.0   \n",
       "\n",
       "       position  distance_from_line  \n",
       "13365        DT            0.519998  \n",
       "13368        DE            0.279998  \n",
       "13373       OLB            0.649998  \n",
       "13374       OLB            0.449998  \n",
       "\n",
       "[4 rows x 24 columns]"
      ]
     },
     "execution_count": 33,
     "metadata": {},
     "output_type": "execute_result"
    }
   ],
   "source": [
    "test[(test['distance_from_line'] < 1.6) & ~(test['position'].isin(['SS', 'FS', 'DB', 'CB']))]"
   ]
  }
 ],
 "metadata": {
  "kernelspec": {
   "display_name": "venv",
   "language": "python",
   "name": "python3"
  },
  "language_info": {
   "codemirror_mode": {
    "name": "ipython",
    "version": 3
   },
   "file_extension": ".py",
   "mimetype": "text/x-python",
   "name": "python",
   "nbconvert_exporter": "python",
   "pygments_lexer": "ipython3",
   "version": "3.12.3"
  }
 },
 "nbformat": 4,
 "nbformat_minor": 2
}
