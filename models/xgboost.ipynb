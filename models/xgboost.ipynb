{
 "cells": [
  {
   "cell_type": "code",
   "execution_count": 1,
   "metadata": {},
   "outputs": [
    {
     "name": "stdout",
     "output_type": "stream",
     "text": [
      "JobID         MaxVMSize  MaxVMSizeNode  MaxVMSizeTask  AveVMSize     MaxRSS MaxRSSNode MaxRSSTask     AveRSS MaxPages MaxPagesNode   MaxPagesTask   AvePages     MinCPU MinCPUNode MinCPUTask     AveCPU   NTasks AveCPUFreq ReqCPUFreqMin ReqCPUFreqMax ReqCPUFreqGov ConsumedEnergy  MaxDiskRead MaxDiskReadNode MaxDiskReadTask  AveDiskRead MaxDiskWrite MaxDiskWriteNode MaxDiskWriteTask AveDiskWrite TRESUsageInAve TRESUsageInMax TRESUsageInMaxNode TRESUsageInMaxTask TRESUsageInMin TRESUsageInMinNode TRESUsageInMinTask TRESUsageInTot TRESUsageOutAve TRESUsageOutMax TRESUsageOutMaxNode TRESUsageOutMaxTask TRESUsageOutMin TRESUsageOutMinNode TRESUsageOutMinTask TRESUsageOutTot \n",
      "------------ ---------- -------------- -------------- ---------- ---------- ---------- ---------- ---------- -------- ------------ -------------- ---------- ---------- ---------- ---------- ---------- -------- ---------- ------------- ------------- ------------- -------------- ------------ --------------- --------------- ------------ ------------ ---------------- ---------------- ------------ -------------- -------------- ------------------ ------------------ -------------- ------------------ ------------------ -------------- --------------- --------------- ------------------- ------------------- --------------- ------------------- ------------------- --------------- \n",
      "54428181.0     8203168K     c0709a-s30              0   8203168K   3830364K c0709a-s30          0   3830364K     2228   c0709a-s30              0       2228   00:00:44 c0709a-s30          0   00:00:44        1     62.95M       Unknown       Unknown       Unknown                  9116894864      c0709a-s30               0   9116894864      5646055       c0709a-s30                0      5646055 cpu=00:00:44,+ cpu=00:00:44,+ cpu=c0709a-s30,en+ cpu=00:00:00,fs/d+ cpu=00:00:44,+ cpu=c0709a-s30,en+ cpu=00:00:00,fs/d+ cpu=00:00:44,+ energy=0,fs/di+ energy=0,fs/di+ energy=c0709a-s30,+           fs/disk=0 energy=0,fs/di+ energy=c0709a-s30,+           fs/disk=0 energy=0,fs/di+ \n"
     ]
    }
   ],
   "source": [
    "! . .venv/bin/activate\n",
    "! sstat -j $SLURM_JOB_ID "
   ]
  },
  {
   "cell_type": "markdown",
   "metadata": {},
   "source": [
    "# Load the data \n",
    "### Get data from running all of data_analysis/create_dataset"
   ]
  },
  {
   "cell_type": "code",
   "execution_count": 2,
   "metadata": {},
   "outputs": [],
   "source": [
    "import pandas as pd\n",
    "from sklearn.model_selection import train_test_split\n",
    "from sklearn.metrics import accuracy_score, classification_report, mean_absolute_error, mean_squared_error, r2_score, confusion_matrix\n",
    "from xgboost import XGBClassifier\n",
    "from sklearn.linear_model import LogisticRegression\n",
    "import matplotlib.pyplot as plt\n",
    "import seaborn as sns\n"
   ]
  },
  {
   "cell_type": "code",
   "execution_count": null,
   "metadata": {},
   "outputs": [],
   "source": [
    "# Load the data from model_data \n",
    "version = 'v0'\n",
    "train = pd.read_csv(f'model_data/{version}/train.csv')\n",
    "val = pd.read_csv(f'model_data/{version}/val.csv')\n",
    "test = pd.read_csv(f'model_data/{version}/test.csv')\n",
    "\n",
    "# Split the data into X and y\n",
    "x_train = train.drop(columns=['causedPressure'])\n",
    "y_train = train['causedPressure']\n",
    "\n",
    "x_val = val.drop(columns=['causedPressure'])\n",
    "y_val = val['causedPressure']\n",
    "\n",
    "x_test = test.drop(columns=['causedPressure'])\n",
    "y_test = test['causedPressure']"
   ]
  },
  {
   "cell_type": "markdown",
   "metadata": {},
   "source": [
    "# XGBoost model"
   ]
  },
  {
   "cell_type": "code",
   "execution_count": 11,
   "metadata": {},
   "outputs": [
    {
     "name": "stdout",
     "output_type": "stream",
     "text": [
      "[0]\tvalidation_0-logloss:0.68467\n",
      "[1]\tvalidation_0-logloss:0.68293\n",
      "[2]\tvalidation_0-logloss:0.67926\n",
      "[3]\tvalidation_0-logloss:0.67901\n",
      "[4]\tvalidation_0-logloss:0.67816\n",
      "[5]\tvalidation_0-logloss:0.67803\n",
      "[6]\tvalidation_0-logloss:0.67938\n",
      "[7]\tvalidation_0-logloss:0.67925\n",
      "[8]\tvalidation_0-logloss:0.68085\n",
      "[9]\tvalidation_0-logloss:0.68085\n",
      "[10]\tvalidation_0-logloss:0.68144\n",
      "[11]\tvalidation_0-logloss:0.68252\n",
      "[12]\tvalidation_0-logloss:0.68282\n",
      "[13]\tvalidation_0-logloss:0.68287\n",
      "[14]\tvalidation_0-logloss:0.68295\n"
     ]
    },
    {
     "name": "stderr",
     "output_type": "stream",
     "text": [
      "/blue/hoover-sai/NFL_Big_Data_Bowl_2025/team1/aaron_dir/big-data-bowl/.venv/lib/python3.12/site-packages/xgboost/core.py:158: UserWarning: [19:36:19] WARNING: /workspace/src/learner.cc:740: \n",
      "Parameters: { \"use_label_encoder\" } are not used.\n",
      "\n",
      "  warnings.warn(smsg, UserWarning)\n"
     ]
    }
   ],
   "source": [
    "model = XGBClassifier(\n",
    "    random_state=42,\n",
    "    use_label_encoder=False,\n",
    "    eval_metric='logloss',  \n",
    "    early_stopping_rounds=10\n",
    "\n",
    ")\n",
    "\n",
    "model.fit(\n",
    "    x_train,\n",
    "    y_train,\n",
    "    eval_set=[(x_val, y_val)],\n",
    "    verbose=True\n",
    ")\n",
    "\n",
    "y_pred = model.predict(x_test)"
   ]
  },
  {
   "cell_type": "markdown",
   "metadata": {},
   "source": [
    "# Train Accuracy\n",
    "### Dummy Model (guesses no pressure everytime) accuracy is 50%"
   ]
  },
  {
   "cell_type": "code",
   "execution_count": 12,
   "metadata": {},
   "outputs": [
    {
     "name": "stdout",
     "output_type": "stream",
     "text": [
      "train accuracy = 0.6192584394023243\n"
     ]
    }
   ],
   "source": [
    "print(f\"train accuracy = {accuracy_score(y_train, model.predict(x_train))}\")"
   ]
  },
  {
   "cell_type": "markdown",
   "metadata": {},
   "source": [
    "# Test Metrics\n",
    "### Dummy Model (guesses no pressure everytime) accuracy is 70%\n",
    "### Good weigthed average f1 score is > .70"
   ]
  },
  {
   "cell_type": "code",
   "execution_count": 13,
   "metadata": {},
   "outputs": [
    {
     "name": "stdout",
     "output_type": "stream",
     "text": [
      "Classification Report on Test Set:\n",
      "              precision    recall  f1-score   support\n",
      "\n",
      "           0       0.75      0.70      0.73       890\n",
      "           1       0.40      0.46      0.43       387\n",
      "\n",
      "    accuracy                           0.63      1277\n",
      "   macro avg       0.58      0.58      0.58      1277\n",
      "weighted avg       0.64      0.63      0.64      1277\n",
      "\n"
     ]
    }
   ],
   "source": [
    "print(\"Classification Report on Test Set:\")\n",
    "print(classification_report(y_test, y_pred))"
   ]
  },
  {
   "cell_type": "code",
   "execution_count": 16,
   "metadata": {},
   "outputs": [
    {
     "name": "stdout",
     "output_type": "stream",
     "text": [
      "Perfect confusion matrix for comparison:\n",
      "[[890   0]\n",
      " [  0 387]]\n"
     ]
    },
    {
     "data": {
      "image/png": "[encoded data removed]",
      "text/plain": [
       "<Figure size 800x600 with 2 Axes>"
      ]
     },
     "metadata": {},
     "output_type": "display_data"
    }
   ],
   "source": [
    "# Compute the confusion matrix\n",
    "cm = confusion_matrix(y_test, y_pred)\n",
    "\n",
    "print(\"Perfect confusion matrix for comparison:\")\n",
    "print(confusion_matrix(y_test, y_test))\n",
    "\n",
    "# Optional: Visualize the confusion matrix with a heatmap\n",
    "plt.figure(figsize=(8, 6))\n",
    "sns.heatmap(cm, annot=True, fmt='d', cmap='Blues', xticklabels=model.classes_, yticklabels=model.classes_)\n",
    "plt.xlabel('Predicted')\n",
    "plt.ylabel('True')\n",
    "plt.title('Confusion Matrix')\n",
    "plt.show()"
   ]
  },
  {
   "cell_type": "markdown",
   "metadata": {},
   "source": [
    "# Hyperparamater Tuning"
   ]
  },
  {
   "cell_type": "code",
   "execution_count": 17,
   "metadata": {},
   "outputs": [
    {
     "name": "stdout",
     "output_type": "stream",
     "text": [
      "Fitting 3 folds for each of 20 candidates, totalling 60 fits\n"
     ]
    },
    {
     "name": "stderr",
     "output_type": "stream",
     "text": [
      "/blue/hoover-sai/NFL_Big_Data_Bowl_2025/team1/aaron_dir/big-data-bowl/.venv/lib/python3.12/site-packages/xgboost/core.py:158: UserWarning: [19:53:33] WARNING: /workspace/src/learner.cc:740: \n",
      "Parameters: { \"use_label_encoder\" } are not used.\n",
      "\n",
      "  warnings.warn(smsg, UserWarning)\n",
      "/blue/hoover-sai/NFL_Big_Data_Bowl_2025/team1/aaron_dir/big-data-bowl/.venv/lib/python3.12/site-packages/xgboost/core.py:158: UserWarning: [19:53:33] WARNING: /workspace/src/learner.cc:740: \n",
      "Parameters: { \"use_label_encoder\" } are not used.\n",
      "\n",
      "  warnings.warn(smsg, UserWarning)\n",
      "/blue/hoover-sai/NFL_Big_Data_Bowl_2025/team1/aaron_dir/big-data-bowl/.venv/lib/python3.12/site-packages/xgboost/core.py:158: UserWarning: [19:53:33] WARNING: /workspace/src/learner.cc:740: \n",
      "Parameters: { \"use_label_encoder\" } are not used.\n",
      "\n",
      "  warnings.warn(smsg, UserWarning)\n",
      "/blue/hoover-sai/NFL_Big_Data_Bowl_2025/team1/aaron_dir/big-data-bowl/.venv/lib/python3.12/site-packages/xgboost/core.py:158: UserWarning: [19:53:34] WARNING: /workspace/src/learner.cc:740: \n",
      "Parameters: { \"use_label_encoder\" } are not used.\n",
      "\n",
      "  warnings.warn(smsg, UserWarning)\n",
      "/blue/hoover-sai/NFL_Big_Data_Bowl_2025/team1/aaron_dir/big-data-bowl/.venv/lib/python3.12/site-packages/xgboost/core.py:158: UserWarning: [19:53:34] WARNING: /workspace/src/learner.cc:740: \n",
      "Parameters: { \"use_label_encoder\" } are not used.\n",
      "\n",
      "  warnings.warn(smsg, UserWarning)\n",
      "/blue/hoover-sai/NFL_Big_Data_Bowl_2025/team1/aaron_dir/big-data-bowl/.venv/lib/python3.12/site-packages/xgboost/core.py:158: UserWarning: [19:53:34] WARNING: /workspace/src/learner.cc:740: \n",
      "Parameters: { \"use_label_encoder\" } are not used.\n",
      "\n",
      "  warnings.warn(smsg, UserWarning)\n",
      "/blue/hoover-sai/NFL_Big_Data_Bowl_2025/team1/aaron_dir/big-data-bowl/.venv/lib/python3.12/site-packages/xgboost/core.py:158: UserWarning: [19:53:34] WARNING: /workspace/src/learner.cc:740: \n",
      "Parameters: { \"use_label_encoder\" } are not used.\n",
      "\n",
      "  warnings.warn(smsg, UserWarning)\n",
      "/blue/hoover-sai/NFL_Big_Data_Bowl_2025/team1/aaron_dir/big-data-bowl/.venv/lib/python3.12/site-packages/xgboost/core.py:158: UserWarning: [19:53:34] WARNING: /workspace/src/learner.cc:740: \n",
      "Parameters: { \"use_label_encoder\" } are not used.\n",
      "\n",
      "  warnings.warn(smsg, UserWarning)\n",
      "/blue/hoover-sai/NFL_Big_Data_Bowl_2025/team1/aaron_dir/big-data-bowl/.venv/lib/python3.12/site-packages/xgboost/core.py:158: UserWarning: [19:53:34] WARNING: /workspace/src/learner.cc:740: \n",
      "Parameters: { \"use_label_encoder\" } are not used.\n",
      "\n",
      "  warnings.warn(smsg, UserWarning)\n",
      "/blue/hoover-sai/NFL_Big_Data_Bowl_2025/team1/aaron_dir/big-data-bowl/.venv/lib/python3.12/site-packages/xgboost/core.py:158: UserWarning: [19:53:34] WARNING: /workspace/src/learner.cc:740: \n",
      "Parameters: { \"use_label_encoder\" } are not used.\n",
      "\n",
      "  warnings.warn(smsg, UserWarning)\n",
      "/blue/hoover-sai/NFL_Big_Data_Bowl_2025/team1/aaron_dir/big-data-bowl/.venv/lib/python3.12/site-packages/xgboost/core.py:158: UserWarning: [19:53:34] WARNING: /workspace/src/learner.cc:740: \n",
      "Parameters: { \"use_label_encoder\" } are not used.\n",
      "\n",
      "  warnings.warn(smsg, UserWarning)\n",
      "/blue/hoover-sai/NFL_Big_Data_Bowl_2025/team1/aaron_dir/big-data-bowl/.venv/lib/python3.12/site-packages/xgboost/core.py:158: UserWarning: [19:53:34] WARNING: /workspace/src/learner.cc:740: \n",
      "Parameters: { \"use_label_encoder\" } are not used.\n",
      "\n",
      "  warnings.warn(smsg, UserWarning)\n",
      "/blue/hoover-sai/NFL_Big_Data_Bowl_2025/team1/aaron_dir/big-data-bowl/.venv/lib/python3.12/site-packages/xgboost/core.py:158: UserWarning: [19:53:34] WARNING: /workspace/src/learner.cc:740: \n",
      "Parameters: { \"use_label_encoder\" } are not used.\n",
      "\n",
      "  warnings.warn(smsg, UserWarning)\n",
      "/blue/hoover-sai/NFL_Big_Data_Bowl_2025/team1/aaron_dir/big-data-bowl/.venv/lib/python3.12/site-packages/xgboost/core.py:158: UserWarning: [19:53:34] WARNING: /workspace/src/learner.cc:740: \n",
      "Parameters: { \"use_label_encoder\" } are not used.\n",
      "\n",
      "  warnings.warn(smsg, UserWarning)\n",
      "/blue/hoover-sai/NFL_Big_Data_Bowl_2025/team1/aaron_dir/big-data-bowl/.venv/lib/python3.12/site-packages/xgboost/core.py:158: UserWarning: [19:53:34] WARNING: /workspace/src/learner.cc:740: \n",
      "Parameters: { \"use_label_encoder\" } are not used.\n",
      "\n",
      "  warnings.warn(smsg, UserWarning)\n",
      "/blue/hoover-sai/NFL_Big_Data_Bowl_2025/team1/aaron_dir/big-data-bowl/.venv/lib/python3.12/site-packages/xgboost/core.py:158: UserWarning: [19:53:34] WARNING: /workspace/src/learner.cc:740: \n",
      "Parameters: { \"use_label_encoder\" } are not used.\n",
      "\n",
      "  warnings.warn(smsg, UserWarning)\n",
      "/blue/hoover-sai/NFL_Big_Data_Bowl_2025/team1/aaron_dir/big-data-bowl/.venv/lib/python3.12/site-packages/xgboost/core.py:158: UserWarning: [19:53:34] WARNING: /workspace/src/learner.cc:740: \n",
      "Parameters: { \"use_label_encoder\" } are not used.\n",
      "\n",
      "  warnings.warn(smsg, UserWarning)\n",
      "/blue/hoover-sai/NFL_Big_Data_Bowl_2025/team1/aaron_dir/big-data-bowl/.venv/lib/python3.12/site-packages/xgboost/core.py:158: UserWarning: [19:53:34] WARNING: /workspace/src/learner.cc:740: \n",
      "Parameters: { \"use_label_encoder\" } are not used.\n",
      "\n",
      "  warnings.warn(smsg, UserWarning)\n",
      "/blue/hoover-sai/NFL_Big_Data_Bowl_2025/team1/aaron_dir/big-data-bowl/.venv/lib/python3.12/site-packages/xgboost/core.py:158: UserWarning: [19:53:34] WARNING: /workspace/src/learner.cc:740: \n",
      "Parameters: { \"use_label_encoder\" } are not used.\n",
      "\n",
      "  warnings.warn(smsg, UserWarning)\n",
      "/blue/hoover-sai/NFL_Big_Data_Bowl_2025/team1/aaron_dir/big-data-bowl/.venv/lib/python3.12/site-packages/xgboost/core.py:158: UserWarning: [19:53:34] WARNING: /workspace/src/learner.cc:740: \n",
      "Parameters: { \"use_label_encoder\" } are not used.\n",
      "\n",
      "  warnings.warn(smsg, UserWarning)\n",
      "/blue/hoover-sai/NFL_Big_Data_Bowl_2025/team1/aaron_dir/big-data-bowl/.venv/lib/python3.12/site-packages/xgboost/core.py:158: UserWarning: [19:53:34] WARNING: /workspace/src/learner.cc:740: \n",
      "Parameters: { \"use_label_encoder\" } are not used.\n",
      "\n",
      "  warnings.warn(smsg, UserWarning)\n",
      "/blue/hoover-sai/NFL_Big_Data_Bowl_2025/team1/aaron_dir/big-data-bowl/.venv/lib/python3.12/site-packages/xgboost/core.py:158: UserWarning: [19:53:34] WARNING: /workspace/src/learner.cc:740: \n",
      "Parameters: { \"use_label_encoder\" } are not used.\n",
      "\n",
      "  warnings.warn(smsg, UserWarning)\n",
      "/blue/hoover-sai/NFL_Big_Data_Bowl_2025/team1/aaron_dir/big-data-bowl/.venv/lib/python3.12/site-packages/xgboost/core.py:158: UserWarning: [19:53:35] WARNING: /workspace/src/learner.cc:740: \n",
      "Parameters: { \"use_label_encoder\" } are not used.\n",
      "\n",
      "  warnings.warn(smsg, UserWarning)\n",
      "/blue/hoover-sai/NFL_Big_Data_Bowl_2025/team1/aaron_dir/big-data-bowl/.venv/lib/python3.12/site-packages/xgboost/core.py:158: UserWarning: [19:53:35] WARNING: /workspace/src/learner.cc:740: \n",
      "Parameters: { \"use_label_encoder\" } are not used.\n",
      "\n",
      "  warnings.warn(smsg, UserWarning)\n",
      "/blue/hoover-sai/NFL_Big_Data_Bowl_2025/team1/aaron_dir/big-data-bowl/.venv/lib/python3.12/site-packages/xgboost/core.py:158: UserWarning: [19:53:35] WARNING: /workspace/src/learner.cc:740: \n",
      "Parameters: { \"use_label_encoder\" } are not used.\n",
      "\n",
      "  warnings.warn(smsg, UserWarning)\n",
      "/blue/hoover-sai/NFL_Big_Data_Bowl_2025/team1/aaron_dir/big-data-bowl/.venv/lib/python3.12/site-packages/xgboost/core.py:158: UserWarning: [19:53:35] WARNING: /workspace/src/learner.cc:740: \n",
      "Parameters: { \"use_label_encoder\" } are not used.\n",
      "\n",
      "  warnings.warn(smsg, UserWarning)\n",
      "/blue/hoover-sai/NFL_Big_Data_Bowl_2025/team1/aaron_dir/big-data-bowl/.venv/lib/python3.12/site-packages/xgboost/core.py:158: UserWarning: [19:53:35] WARNING: /workspace/src/learner.cc:740: \n",
      "Parameters: { \"use_label_encoder\" } are not used.\n",
      "\n",
      "  warnings.warn(smsg, UserWarning)\n",
      "/blue/hoover-sai/NFL_Big_Data_Bowl_2025/team1/aaron_dir/big-data-bowl/.venv/lib/python3.12/site-packages/xgboost/core.py:158: UserWarning: [19:53:35] WARNING: /workspace/src/learner.cc:740: \n",
      "Parameters: { \"use_label_encoder\" } are not used.\n",
      "\n",
      "  warnings.warn(smsg, UserWarning)\n",
      "/blue/hoover-sai/NFL_Big_Data_Bowl_2025/team1/aaron_dir/big-data-bowl/.venv/lib/python3.12/site-packages/xgboost/core.py:158: UserWarning: [19:53:35] WARNING: /workspace/src/learner.cc:740: \n",
      "Parameters: { \"use_label_encoder\" } are not used.\n",
      "\n",
      "  warnings.warn(smsg, UserWarning)\n",
      "/blue/hoover-sai/NFL_Big_Data_Bowl_2025/team1/aaron_dir/big-data-bowl/.venv/lib/python3.12/site-packages/xgboost/core.py:158: UserWarning: [19:53:35] WARNING: /workspace/src/learner.cc:740: \n",
      "Parameters: { \"use_label_encoder\" } are not used.\n",
      "\n",
      "  warnings.warn(smsg, UserWarning)\n",
      "/blue/hoover-sai/NFL_Big_Data_Bowl_2025/team1/aaron_dir/big-data-bowl/.venv/lib/python3.12/site-packages/xgboost/core.py:158: UserWarning: [19:53:35] WARNING: /workspace/src/learner.cc:740: \n",
      "Parameters: { \"use_label_encoder\" } are not used.\n",
      "\n",
      "  warnings.warn(smsg, UserWarning)\n",
      "/blue/hoover-sai/NFL_Big_Data_Bowl_2025/team1/aaron_dir/big-data-bowl/.venv/lib/python3.12/site-packages/xgboost/core.py:158: UserWarning: [19:53:35] WARNING: /workspace/src/learner.cc:740: \n",
      "Parameters: { \"use_label_encoder\" } are not used.\n",
      "\n",
      "  warnings.warn(smsg, UserWarning)\n",
      "/blue/hoover-sai/NFL_Big_Data_Bowl_2025/team1/aaron_dir/big-data-bowl/.venv/lib/python3.12/site-packages/xgboost/core.py:158: UserWarning: [19:53:35] WARNING: /workspace/src/learner.cc:740: \n",
      "Parameters: { \"use_label_encoder\" } are not used.\n",
      "\n",
      "  warnings.warn(smsg, UserWarning)\n",
      "/blue/hoover-sai/NFL_Big_Data_Bowl_2025/team1/aaron_dir/big-data-bowl/.venv/lib/python3.12/site-packages/xgboost/core.py:158: UserWarning: [19:53:35] WARNING: /workspace/src/learner.cc:740: \n",
      "Parameters: { \"use_label_encoder\" } are not used.\n",
      "\n",
      "  warnings.warn(smsg, UserWarning)\n",
      "/blue/hoover-sai/NFL_Big_Data_Bowl_2025/team1/aaron_dir/big-data-bowl/.venv/lib/python3.12/site-packages/xgboost/core.py:158: UserWarning: [19:53:35] WARNING: /workspace/src/learner.cc:740: \n",
      "Parameters: { \"use_label_encoder\" } are not used.\n",
      "\n",
      "  warnings.warn(smsg, UserWarning)\n",
      "/blue/hoover-sai/NFL_Big_Data_Bowl_2025/team1/aaron_dir/big-data-bowl/.venv/lib/python3.12/site-packages/xgboost/core.py:158: UserWarning: [19:53:35] WARNING: /workspace/src/learner.cc:740: \n",
      "Parameters: { \"use_label_encoder\" } are not used.\n",
      "\n",
      "  warnings.warn(smsg, UserWarning)\n",
      "/blue/hoover-sai/NFL_Big_Data_Bowl_2025/team1/aaron_dir/big-data-bowl/.venv/lib/python3.12/site-packages/xgboost/core.py:158: UserWarning: [19:53:35] WARNING: /workspace/src/learner.cc:740: \n",
      "Parameters: { \"use_label_encoder\" } are not used.\n",
      "\n",
      "  warnings.warn(smsg, UserWarning)\n",
      "/blue/hoover-sai/NFL_Big_Data_Bowl_2025/team1/aaron_dir/big-data-bowl/.venv/lib/python3.12/site-packages/xgboost/core.py:158: UserWarning: [19:53:35] WARNING: /workspace/src/learner.cc:740: \n",
      "Parameters: { \"use_label_encoder\" } are not used.\n",
      "\n",
      "  warnings.warn(smsg, UserWarning)\n",
      "/blue/hoover-sai/NFL_Big_Data_Bowl_2025/team1/aaron_dir/big-data-bowl/.venv/lib/python3.12/site-packages/xgboost/core.py:158: UserWarning: [19:53:35] WARNING: /workspace/src/learner.cc:740: \n",
      "Parameters: { \"use_label_encoder\" } are not used.\n",
      "\n",
      "  warnings.warn(smsg, UserWarning)\n",
      "/blue/hoover-sai/NFL_Big_Data_Bowl_2025/team1/aaron_dir/big-data-bowl/.venv/lib/python3.12/site-packages/xgboost/core.py:158: UserWarning: [19:53:35] WARNING: /workspace/src/learner.cc:740: \n",
      "Parameters: { \"use_label_encoder\" } are not used.\n",
      "\n",
      "  warnings.warn(smsg, UserWarning)\n",
      "/blue/hoover-sai/NFL_Big_Data_Bowl_2025/team1/aaron_dir/big-data-bowl/.venv/lib/python3.12/site-packages/xgboost/core.py:158: UserWarning: [19:53:35] WARNING: /workspace/src/learner.cc:740: \n",
      "Parameters: { \"use_label_encoder\" } are not used.\n",
      "\n",
      "  warnings.warn(smsg, UserWarning)\n",
      "/blue/hoover-sai/NFL_Big_Data_Bowl_2025/team1/aaron_dir/big-data-bowl/.venv/lib/python3.12/site-packages/xgboost/core.py:158: UserWarning: [19:53:35] WARNING: /workspace/src/learner.cc:740: \n",
      "Parameters: { \"use_label_encoder\" } are not used.\n",
      "\n",
      "  warnings.warn(smsg, UserWarning)\n",
      "/blue/hoover-sai/NFL_Big_Data_Bowl_2025/team1/aaron_dir/big-data-bowl/.venv/lib/python3.12/site-packages/xgboost/core.py:158: UserWarning: [19:53:35] WARNING: /workspace/src/learner.cc:740: \n",
      "Parameters: { \"use_label_encoder\" } are not used.\n",
      "\n",
      "  warnings.warn(smsg, UserWarning)\n",
      "/blue/hoover-sai/NFL_Big_Data_Bowl_2025/team1/aaron_dir/big-data-bowl/.venv/lib/python3.12/site-packages/xgboost/core.py:158: UserWarning: [19:53:35] WARNING: /workspace/src/learner.cc:740: \n",
      "Parameters: { \"use_label_encoder\" } are not used.\n",
      "\n",
      "  warnings.warn(smsg, UserWarning)\n",
      "/blue/hoover-sai/NFL_Big_Data_Bowl_2025/team1/aaron_dir/big-data-bowl/.venv/lib/python3.12/site-packages/xgboost/core.py:158: UserWarning: [19:53:35] WARNING: /workspace/src/learner.cc:740: \n",
      "Parameters: { \"use_label_encoder\" } are not used.\n",
      "\n",
      "  warnings.warn(smsg, UserWarning)\n",
      "/blue/hoover-sai/NFL_Big_Data_Bowl_2025/team1/aaron_dir/big-data-bowl/.venv/lib/python3.12/site-packages/xgboost/core.py:158: UserWarning: [19:53:36] WARNING: /workspace/src/learner.cc:740: \n",
      "Parameters: { \"use_label_encoder\" } are not used.\n",
      "\n",
      "  warnings.warn(smsg, UserWarning)\n",
      "/blue/hoover-sai/NFL_Big_Data_Bowl_2025/team1/aaron_dir/big-data-bowl/.venv/lib/python3.12/site-packages/xgboost/core.py:158: UserWarning: [19:53:36] WARNING: /workspace/src/learner.cc:740: \n",
      "Parameters: { \"use_label_encoder\" } are not used.\n",
      "\n",
      "  warnings.warn(smsg, UserWarning)\n",
      "/blue/hoover-sai/NFL_Big_Data_Bowl_2025/team1/aaron_dir/big-data-bowl/.venv/lib/python3.12/site-packages/xgboost/core.py:158: UserWarning: [19:53:36] WARNING: /workspace/src/learner.cc:740: \n",
      "Parameters: { \"use_label_encoder\" } are not used.\n",
      "\n",
      "  warnings.warn(smsg, UserWarning)\n",
      "/blue/hoover-sai/NFL_Big_Data_Bowl_2025/team1/aaron_dir/big-data-bowl/.venv/lib/python3.12/site-packages/xgboost/core.py:158: UserWarning: [19:53:36] WARNING: /workspace/src/learner.cc:740: \n",
      "Parameters: { \"use_label_encoder\" } are not used.\n",
      "\n",
      "  warnings.warn(smsg, UserWarning)\n",
      "/blue/hoover-sai/NFL_Big_Data_Bowl_2025/team1/aaron_dir/big-data-bowl/.venv/lib/python3.12/site-packages/xgboost/core.py:158: UserWarning: [19:53:36] WARNING: /workspace/src/learner.cc:740: \n",
      "Parameters: { \"use_label_encoder\" } are not used.\n",
      "\n",
      "  warnings.warn(smsg, UserWarning)\n",
      "/blue/hoover-sai/NFL_Big_Data_Bowl_2025/team1/aaron_dir/big-data-bowl/.venv/lib/python3.12/site-packages/xgboost/core.py:158: UserWarning: [19:53:36] WARNING: /workspace/src/learner.cc:740: \n",
      "Parameters: { \"use_label_encoder\" } are not used.\n",
      "\n",
      "  warnings.warn(smsg, UserWarning)\n",
      "/blue/hoover-sai/NFL_Big_Data_Bowl_2025/team1/aaron_dir/big-data-bowl/.venv/lib/python3.12/site-packages/xgboost/core.py:158: UserWarning: [19:53:36] WARNING: /workspace/src/learner.cc:740: \n",
      "Parameters: { \"use_label_encoder\" } are not used.\n",
      "\n",
      "  warnings.warn(smsg, UserWarning)\n",
      "/blue/hoover-sai/NFL_Big_Data_Bowl_2025/team1/aaron_dir/big-data-bowl/.venv/lib/python3.12/site-packages/xgboost/core.py:158: UserWarning: [19:53:36] WARNING: /workspace/src/learner.cc:740: \n",
      "Parameters: { \"use_label_encoder\" } are not used.\n",
      "\n",
      "  warnings.warn(smsg, UserWarning)\n",
      "/blue/hoover-sai/NFL_Big_Data_Bowl_2025/team1/aaron_dir/big-data-bowl/.venv/lib/python3.12/site-packages/xgboost/core.py:158: UserWarning: [19:53:36] WARNING: /workspace/src/learner.cc:740: \n",
      "Parameters: { \"use_label_encoder\" } are not used.\n",
      "\n",
      "  warnings.warn(smsg, UserWarning)\n",
      "/blue/hoover-sai/NFL_Big_Data_Bowl_2025/team1/aaron_dir/big-data-bowl/.venv/lib/python3.12/site-packages/xgboost/core.py:158: UserWarning: [19:53:36] WARNING: /workspace/src/learner.cc:740: \n",
      "Parameters: { \"use_label_encoder\" } are not used.\n",
      "\n",
      "  warnings.warn(smsg, UserWarning)\n",
      "/blue/hoover-sai/NFL_Big_Data_Bowl_2025/team1/aaron_dir/big-data-bowl/.venv/lib/python3.12/site-packages/xgboost/core.py:158: UserWarning: [19:53:36] WARNING: /workspace/src/learner.cc:740: \n",
      "Parameters: { \"use_label_encoder\" } are not used.\n",
      "\n",
      "  warnings.warn(smsg, UserWarning)\n",
      "/blue/hoover-sai/NFL_Big_Data_Bowl_2025/team1/aaron_dir/big-data-bowl/.venv/lib/python3.12/site-packages/xgboost/core.py:158: UserWarning: [19:53:36] WARNING: /workspace/src/learner.cc:740: \n",
      "Parameters: { \"use_label_encoder\" } are not used.\n",
      "\n",
      "  warnings.warn(smsg, UserWarning)\n",
      "/blue/hoover-sai/NFL_Big_Data_Bowl_2025/team1/aaron_dir/big-data-bowl/.venv/lib/python3.12/site-packages/xgboost/core.py:158: UserWarning: [19:53:36] WARNING: /workspace/src/learner.cc:740: \n",
      "Parameters: { \"use_label_encoder\" } are not used.\n",
      "\n",
      "  warnings.warn(smsg, UserWarning)\n",
      "/blue/hoover-sai/NFL_Big_Data_Bowl_2025/team1/aaron_dir/big-data-bowl/.venv/lib/python3.12/site-packages/xgboost/core.py:158: UserWarning: [19:53:36] WARNING: /workspace/src/learner.cc:740: \n",
      "Parameters: { \"use_label_encoder\" } are not used.\n",
      "\n",
      "  warnings.warn(smsg, UserWarning)\n",
      "/blue/hoover-sai/NFL_Big_Data_Bowl_2025/team1/aaron_dir/big-data-bowl/.venv/lib/python3.12/site-packages/xgboost/core.py:158: UserWarning: [19:53:36] WARNING: /workspace/src/learner.cc:740: \n",
      "Parameters: { \"use_label_encoder\" } are not used.\n",
      "\n",
      "  warnings.warn(smsg, UserWarning)\n"
     ]
    },
    {
     "name": "stdout",
     "output_type": "stream",
     "text": [
      "Best parameters found:  {'subsample': 1.0, 'reg_lambda': 0.1, 'reg_alpha': 0.01, 'n_estimators': 200, 'min_child_weight': 3, 'max_depth': 3, 'learning_rate': 0.01, 'gamma': 0.1, 'colsample_bytree': 1.0}\n",
      "Best CV accuracy:  0.5536818259099452\n",
      "Validation Accuracy with tuned model: 0.6258\n",
      "Test Accuracy with tuned model: 0.6445\n",
      "Classification Report on Test Set:\n",
      "              precision    recall  f1-score   support\n",
      "\n",
      "           0       0.75      0.73      0.74       890\n",
      "           1       0.42      0.44      0.43       387\n",
      "\n",
      "    accuracy                           0.64      1277\n",
      "   macro avg       0.58      0.59      0.59      1277\n",
      "weighted avg       0.65      0.64      0.65      1277\n",
      "\n",
      "Confusion Matrix:\n",
      "[[653 237]\n",
      " [217 170]]\n"
     ]
    },
    {
     "name": "stderr",
     "output_type": "stream",
     "text": [
      "/blue/hoover-sai/NFL_Big_Data_Bowl_2025/team1/aaron_dir/big-data-bowl/.venv/lib/python3.12/site-packages/xgboost/core.py:158: UserWarning: [19:53:36] WARNING: /workspace/src/learner.cc:740: \n",
      "Parameters: { \"use_label_encoder\" } are not used.\n",
      "\n",
      "  warnings.warn(smsg, UserWarning)\n"
     ]
    },
    {
     "data": {
      "image/png": "[encoded data removed]",
      "text/plain": [
       "<Figure size 800x600 with 2 Axes>"
      ]
     },
     "metadata": {},
     "output_type": "display_data"
    }
   ],
   "source": [
    "from sklearn.model_selection import RandomizedSearchCV\n",
    "from xgboost import XGBClassifier\n",
    "import numpy as np\n",
    "\n",
    "# 1. Define a parameter grid for XGBoost hyperparameters\n",
    "param_dist = {\n",
    "    \"n_estimators\": [50, 100, 200, 300],\n",
    "    \"max_depth\": [3, 4, 5, 6],\n",
    "    \"learning_rate\": [0.1, 0.01, 0.001],\n",
    "    \"subsample\": [0.6, 0.8, 1.0],\n",
    "    \"colsample_bytree\": [0.6, 0.8, 1.0],\n",
    "    \"min_child_weight\": [1, 3, 5],\n",
    "    \"gamma\": [0, 0.1, 0.3, 0.5],\n",
    "    \"reg_alpha\": [0, 0.01, 0.1, 1],\n",
    "    \"reg_lambda\": [0, 0.01, 0.1, 1]\n",
    "}\n",
    "\n",
    "# 2. Initialize an XGBoost classifier\n",
    "xgb_clf = XGBClassifier(\n",
    "    random_state=42,\n",
    "    use_label_encoder=False,\n",
    "    eval_metric='logloss'\n",
    ")\n",
    "\n",
    "# 3. Instantiate the RandomizedSearchCV\n",
    "#    n_iter: number of random parameter settings to try\n",
    "#    cv: number of folds in cross-validation\n",
    "#    scoring: metric used for selection\n",
    "random_search = RandomizedSearchCV(\n",
    "    estimator=xgb_clf,\n",
    "    param_distributions=param_dist,\n",
    "    n_iter=20,                  # Adjust to your preference\n",
    "    scoring='accuracy',         # Could be 'f1', 'roc_auc', etc. depending on the problem\n",
    "    cv=3,                       # K-fold cross-validation\n",
    "    verbose=1,\n",
    "    random_state=42,\n",
    "    n_jobs=-1                   # Use all available cores\n",
    ")\n",
    "\n",
    "# 4. Fit the RandomizedSearchCV on your training set\n",
    "random_search.fit(x_train, y_train)\n",
    "\n",
    "# 5. Check best parameters and score\n",
    "print(\"Best parameters found: \", random_search.best_params_)\n",
    "print(\"Best CV accuracy: \", random_search.best_score_)\n",
    "\n",
    "# 6. Use the best_estimator_ to predict on validation/test set\n",
    "best_model = random_search.best_estimator_\n",
    "\n",
    "# If you have a separate validation set\n",
    "y_val_pred = best_model.predict(x_val)\n",
    "val_accuracy = accuracy_score(y_val, y_val_pred)\n",
    "print(f\"Validation Accuracy with tuned model: {val_accuracy:.4f}\")\n",
    "\n",
    "# 7. Evaluate on test set\n",
    "y_test_pred = best_model.predict(x_test)\n",
    "test_accuracy = accuracy_score(y_test, y_test_pred)\n",
    "print(f\"Test Accuracy with tuned model: {test_accuracy:.4f}\")\n",
    "\n",
    "print(\"Classification Report on Test Set:\")\n",
    "print(classification_report(y_test, y_test_pred))\n",
    "\n",
    "# Compute the confusion matrix\n",
    "cm = confusion_matrix(y_test, y_test_pred)\n",
    "\n",
    "# Print the raw confusion matrix\n",
    "print(\"Confusion Matrix:\")\n",
    "print(cm)\n",
    "\n",
    "# Optional: Visualize the confusion matrix with a heatmap\n",
    "plt.figure(figsize=(8, 6))\n",
    "sns.heatmap(cm, annot=True, fmt='d', cmap='Blues', xticklabels=best_model.classes_, yticklabels=best_model.classes_)\n",
    "plt.xlabel('Predicted')\n",
    "plt.ylabel('True')\n",
    "plt.title('Confusion Matrix')\n",
    "plt.show()\n"
   ]
  }
 ],
 "metadata": {
  "kernelspec": {
   "display_name": "Python 3 (ipykernel)",
   "language": "python",
   "name": "python3"
  },
  "language_info": {
   "codemirror_mode": {
    "name": "ipython",
    "version": 3
   },
   "file_extension": ".py",
   "mimetype": "text/x-python",
   "name": "python",
   "nbconvert_exporter": "python",
   "pygments_lexer": "ipython3",
   "version": "3.12.6"
  }
 },
 "nbformat": 4,
 "nbformat_minor": 2
}
