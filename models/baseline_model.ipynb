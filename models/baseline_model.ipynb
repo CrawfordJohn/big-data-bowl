{
 "cells": [
  {
   "cell_type": "code",
   "execution_count": 1,
   "metadata": {},
   "outputs": [
    {
     "name": "stdout",
     "output_type": "stream",
     "text": [
      "JobID         MaxVMSize  MaxVMSizeNode  MaxVMSizeTask  AveVMSize     MaxRSS MaxRSSNode MaxRSSTask     AveRSS MaxPages MaxPagesNode   MaxPagesTask   AvePages     MinCPU MinCPUNode MinCPUTask     AveCPU   NTasks AveCPUFreq ReqCPUFreqMin ReqCPUFreqMax ReqCPUFreqGov ConsumedEnergy  MaxDiskRead MaxDiskReadNode MaxDiskReadTask  AveDiskRead MaxDiskWrite MaxDiskWriteNode MaxDiskWriteTask AveDiskWrite TRESUsageInAve TRESUsageInMax TRESUsageInMaxNode TRESUsageInMaxTask TRESUsageInMin TRESUsageInMinNode TRESUsageInMinTask TRESUsageInTot TRESUsageOutAve TRESUsageOutMax TRESUsageOutMaxNode TRESUsageOutMaxTask TRESUsageOutMin TRESUsageOutMinNode TRESUsageOutMinTask TRESUsageOutTot \n",
      "------------ ---------- -------------- -------------- ---------- ---------- ---------- ---------- ---------- -------- ------------ -------------- ---------- ---------- ---------- ---------- ---------- -------- ---------- ------------- ------------- ------------- -------------- ------------ --------------- --------------- ------------ ------------ ---------------- ---------------- ------------ -------------- -------------- ------------------ ------------------ -------------- ------------------ ------------------ -------------- --------------- --------------- ------------------- ------------------- --------------- ------------------- ------------------- --------------- \n",
      "54428181.0     3917052K     c0709a-s30              0   3917052K   1970192K c0709a-s30          0   1970192K     1425   c0709a-s30              0       1425   00:00:20 c0709a-s30          0   00:00:20        1    159.67M       Unknown       Unknown       Unknown                  4323875076      c0709a-s30               0   4323875076      2192035       c0709a-s30                0      2192035 cpu=00:00:20,+ cpu=00:00:20,+ cpu=c0709a-s30,en+ cpu=00:00:00,fs/d+ cpu=00:00:20,+ cpu=c0709a-s30,en+ cpu=00:00:00,fs/d+ cpu=00:00:20,+ energy=0,fs/di+ energy=0,fs/di+ energy=c0709a-s30,+           fs/disk=0 energy=0,fs/di+ energy=c0709a-s30,+           fs/disk=0 energy=0,fs/di+ \n"
     ]
    }
   ],
   "source": [
    "! . .venv/bin/activate\n",
    "! sstat -j $SLURM_JOB_ID "
   ]
  },
  {
   "cell_type": "markdown",
   "metadata": {},
   "source": [
    "# Logistic Regression Baseline Model"
   ]
  },
  {
   "cell_type": "code",
   "execution_count": 2,
   "metadata": {},
   "outputs": [],
   "source": [
    "import pandas as pd\n",
    "from sklearn.model_selection import train_test_split\n",
    "from sklearn.metrics import accuracy_score, classification_report, mean_absolute_error, mean_squared_error, r2_score, confusion_matrix\n",
    "from xgboost import XGBClassifier\n",
    "from sklearn.linear_model import LogisticRegression\n",
    "import matplotlib.pyplot as plt\n",
    "import seaborn as sns\n"
   ]
  },
  {
   "cell_type": "code",
   "execution_count": null,
   "metadata": {},
   "outputs": [],
   "source": [
    "# Initialize and train the Linear Regression model\n",
    "model = LogisticRegression()\n",
    "model.fit(X_train, y_train)\n",
    "\n",
    "# Make predictions on validation and test sets\n",
    "y_val_pred = model.predict(X_val)\n",
    "y_test_pred = model.predict(X_test)\n",
    "\n",
    "# Evaluate the model on the validation set\n",
    "print(\"Validation Metrics:\")\n",
    "print(f\"Mean Absolute Error (MAE): {mean_absolute_error(y_val, y_val_pred):.4f}\")\n",
    "print(f\"Mean Squared Error (MSE): {mean_squared_error(y_val, y_val_pred):.4f}\")\n",
    "print(f\"R² Score: {r2_score(y_val, y_val_pred):.4f}\")\n",
    "\n",
    "# Evaluate the model on the test set\n",
    "print(\"\\nTest Metrics:\")\n",
    "print(f\"Mean Absolute Error (MAE): {mean_absolute_error(y_test, y_test_pred):.4f}\")\n",
    "print(f\"Mean Squared Error (MSE): {mean_squared_error(y_test, y_test_pred):.4f}\")\n",
    "print(f\"R² Score: {r2_score(y_test, y_test_pred):.4f}\")\n",
    "\n",
    "# Optional: Compare actual vs predicted values on the test set\n",
    "results = pd.DataFrame({'Actual': y_test, 'Predicted': y_test_pred})\n",
    "print(\"\\nSample Predictions:\")\n",
    "print(results.head())\n",
    "\n",
    "# Calculate accuracy\n",
    "accuracy = accuracy_score(y_test, y_test_pred.round())\n",
    "print(f\"Test Accuracy: {accuracy:.4f}\")\n",
    "\n",
    "# Compute the confusion matrix\n",
    "cm = confusion_matrix(y_test, y_test_pred.round())\n",
    "\n",
    "# Print the raw confusion matrix\n",
    "print(\"Confusion Matrix:\")\n",
    "print(cm)\n",
    "\n",
    "# Optional: Visualize the confusion matrix with a heatmap\n",
    "plt.figure(figsize=(8, 6))\n",
    "sns.heatmap(cm, annot=True, fmt='d', cmap='Blues', xticklabels=[0, 1], yticklabels=[0, 1])\n",
    "plt.xlabel('Predicted')\n",
    "plt.ylabel('True')\n",
    "plt.title('Confusion Matrix')\n",
    "plt.show()\n"
   ]
  }
 ],
 "metadata": {
  "kernelspec": {
   "display_name": "Python 3 (ipykernel)",
   "language": "python",
   "name": "python3"
  },
  "language_info": {
   "codemirror_mode": {
    "name": "ipython",
    "version": 3
   },
   "file_extension": ".py",
   "mimetype": "text/x-python",
   "name": "python",
   "nbconvert_exporter": "python",
   "pygments_lexer": "ipython3",
   "version": "3.12.6"
  }
 },
 "nbformat": 4,
 "nbformat_minor": 2
}
