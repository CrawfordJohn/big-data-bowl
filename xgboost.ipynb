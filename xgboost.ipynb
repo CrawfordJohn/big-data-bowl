{
 "cells": [
  {
   "cell_type": "markdown",
   "metadata": {},
   "source": [
    "# Trian Test Split (70 - 15 - 15)"
   ]
  },
  {
   "cell_type": "code",
   "execution_count": 1,
   "metadata": {},
   "outputs": [],
   "source": [
    "import pandas as pd\n",
    "from sklearn.model_selection import train_test_split\n",
    "from sklearn.metrics import accuracy_score, classification_report, mean_absolute_error, mean_squared_error, r2_score, confusion_matrix\n",
    "from xgboost import XGBClassifier\n",
    "from sklearn.linear_model import LogisticRegression\n",
    "import matplotlib.pyplot as plt\n",
    "import seaborn as sns\n",
    "import numpy as np\n",
    "from scipy import stats\n",
    "from scipy.optimize import minimize\n",
    "from scipy.special import betaln, gammaln\n",
    "from sklearn.preprocessing import StandardScaler"
   ]
  },
  {
   "cell_type": "code",
   "execution_count": 2,
   "metadata": {},
   "outputs": [],
   "source": [
    "data = pd.read_csv('model_data.csv')\n",
    "games = pd.read_csv('data/games.csv')\n",
    "plays = pd.read_csv('data/plays.csv')\n",
    "player_play = pd.read_csv('data/player_play.csv')\n",
    "players = pd.read_csv('data/players.csv')"
   ]
  },
  {
   "cell_type": "code",
   "execution_count": 3,
   "metadata": {},
   "outputs": [],
   "source": [
    "qbs = pd.merge(player_play, players.loc[:, ['nflId', 'position', 'displayName']], on = 'nflId', how='left')\n",
    "qbs = qbs.loc[qbs['position'] == 'QB']"
   ]
  },
  {
   "cell_type": "code",
   "execution_count": 4,
   "metadata": {},
   "outputs": [],
   "source": [
    "data = pd.merge(data, qbs.loc[:, ['gameId', 'playId', 'nflId', 'displayName']], on = ['gameId', 'playId'], how = 'left')\n",
    "data = data.rename({'nflId':'qbId', 'displayName':'qbName'}, axis=1)"
   ]
  },
  {
   "cell_type": "code",
   "execution_count": 5,
   "metadata": {},
   "outputs": [],
   "source": [
    "pressure_rate = data.groupby('qbId')['causedPressure'].agg(['sum', 'count'])\n",
    "overall_mean = data['causedPressure'].mean()"
   ]
  },
  {
   "cell_type": "code",
   "execution_count": 6,
   "metadata": {},
   "outputs": [
    {
     "name": "stdout",
     "output_type": "stream",
     "text": [
      "Fitted parameters: alpha = 20.02, beta = 39.59\n"
     ]
    }
   ],
   "source": [
    "def beta_binomial_pmf(k, n, alpha, beta):\n",
    "    \"\"\"\n",
    "    Probability mass function for the beta-binomial distribution\n",
    "    \n",
    "    Parameters:\n",
    "    k: number of successes\n",
    "    n: number of trials\n",
    "    alpha, beta: parameters of the beta distribution\n",
    "    \"\"\"\n",
    "    pmf = np.exp(\n",
    "        gammaln(n + 1) - gammaln(k + 1) - gammaln(n - k + 1) +\n",
    "        gammaln(k + alpha) + gammaln(n - k + beta) - gammaln(n + alpha + beta) +\n",
    "        gammaln(alpha + beta) - gammaln(alpha) - gammaln(beta)\n",
    "    )\n",
    "    return pmf\n",
    "\n",
    "def neg_log_likelihood(params, data):\n",
    "    \"\"\"\n",
    "    Negative log likelihood function for the beta-binomial distribution\n",
    "    \n",
    "    Parameters:\n",
    "    params: [alpha, beta]\n",
    "    data: list of tuples (successes, trials)\n",
    "    \"\"\"\n",
    "    alpha, beta = params\n",
    "    if alpha <= 0 or beta <= 0:  # Parameters must be positive\n",
    "        return np.inf\n",
    "    \n",
    "    log_likelihood = 0\n",
    "    for successes, trials in data:\n",
    "        p = beta_binomial_pmf(successes, trials, alpha, beta)\n",
    "        if p > 0:\n",
    "            log_likelihood += np.log(p)\n",
    "        else:\n",
    "            return np.inf\n",
    "    \n",
    "    return -log_likelihood\n",
    "\n",
    "def fit_beta_binomial(data, overall_mean):\n",
    "    \"\"\"\n",
    "    Fit beta-binomial distribution using MLE with constraint alpha/(alpha+beta) = overall_mean\n",
    "    \n",
    "    Parameters:\n",
    "    data: list of tuples (successes, trials)\n",
    "    overall_mean: target mean rate\n",
    "    \n",
    "    Returns:\n",
    "    alpha, beta: optimized parameters\n",
    "    \"\"\"\n",
    "    def objective(x):\n",
    "        # x is alpha, beta is determined by constraint\n",
    "        alpha = x[0]\n",
    "        beta = alpha * (1 - overall_mean) / overall_mean\n",
    "        return neg_log_likelihood([alpha, beta], data)\n",
    "    \n",
    "    # Initial guess for alpha (try a few values)\n",
    "    best_result = None\n",
    "    best_value = np.inf\n",
    "    \n",
    "    for init_alpha in [1, 5, 10, 20]:\n",
    "        result = minimize(\n",
    "            objective,\n",
    "            x0=[init_alpha],\n",
    "            method='L-BFGS-B',\n",
    "            bounds=[(0.0001, None)],\n",
    "        )\n",
    "        \n",
    "        if result.fun < best_value:\n",
    "            best_value = result.fun\n",
    "            best_result = result\n",
    "    \n",
    "    final_alpha = best_result.x[0]\n",
    "    final_beta = final_alpha * (1 - overall_mean) / overall_mean\n",
    "    \n",
    "    return final_alpha, final_beta\n",
    "\n",
    "# Example data: list of (successes, trials) for each player\n",
    "data_tups = list(pressure_rate.itertuples(index=False, name=None))     # Player 3: 3 successes in 5 trials\n",
    "\n",
    "# Calculate overall mean from data\n",
    "overall_mean = data['causedPressure'].mean()\n",
    "\n",
    "# Fit the model\n",
    "alpha, beta = fit_beta_binomial(data_tups, overall_mean)\n",
    "print(f\"Fitted parameters: alpha = {alpha:.2f}, beta = {beta:.2f}\")"
   ]
  },
  {
   "cell_type": "code",
   "execution_count": 7,
   "metadata": {},
   "outputs": [],
   "source": [
    "pressure_rate['count'] =  pressure_rate['count'] + alpha + beta\n",
    "pressure_rate['sum'] =  pressure_rate['sum'] + alpha\n",
    "pressure_rate['qb_pressured_rate'] = pressure_rate['sum'] / pressure_rate['count']\n",
    "pressure_rate = pressure_rate.reset_index()"
   ]
  },
  {
   "cell_type": "code",
   "execution_count": 8,
   "metadata": {},
   "outputs": [],
   "source": [
    "data = pd.merge(data, pressure_rate.loc[:, ['qbId', 'qb_pressured_rate']], on = 'qbId', how='left')"
   ]
  },
  {
   "cell_type": "code",
   "execution_count": 9,
   "metadata": {},
   "outputs": [],
   "source": [
    "scaler = StandardScaler()\n",
    "data['qb_pressured_rate'] = scaler.fit_transform(data['qb_pressured_rate'].values.reshape(-1, 1))"
   ]
  },
  {
   "cell_type": "code",
   "execution_count": 45,
   "metadata": {},
   "outputs": [
    {
     "data": {
      "text/html": [
       "<div>\n",
       "<style scoped>\n",
       "    .dataframe tbody tr th:only-of-type {\n",
       "        vertical-align: middle;\n",
       "    }\n",
       "\n",
       "    .dataframe tbody tr th {\n",
       "        vertical-align: top;\n",
       "    }\n",
       "\n",
       "    .dataframe thead th {\n",
       "        text-align: right;\n",
       "    }\n",
       "</style>\n",
       "<table border=\"1\" class=\"dataframe\">\n",
       "  <thead>\n",
       "    <tr style=\"text-align: right;\">\n",
       "      <th></th>\n",
       "      <th>causedPressure</th>\n",
       "      <th>critical_down</th>\n",
       "      <th>long_distance</th>\n",
       "      <th>close_endzone</th>\n",
       "      <th>close_safety</th>\n",
       "      <th>low_play_clock</th>\n",
       "      <th>qb_pressured_rate</th>\n",
       "    </tr>\n",
       "  </thead>\n",
       "  <tbody>\n",
       "    <tr>\n",
       "      <th>0</th>\n",
       "      <td>0</td>\n",
       "      <td>0.0</td>\n",
       "      <td>0.0</td>\n",
       "      <td>0.0</td>\n",
       "      <td>0.0</td>\n",
       "      <td>0.0</td>\n",
       "      <td>-0.427599</td>\n",
       "    </tr>\n",
       "    <tr>\n",
       "      <th>1</th>\n",
       "      <td>1</td>\n",
       "      <td>0.0</td>\n",
       "      <td>0.0</td>\n",
       "      <td>0.0</td>\n",
       "      <td>0.0</td>\n",
       "      <td>0.0</td>\n",
       "      <td>-0.427599</td>\n",
       "    </tr>\n",
       "    <tr>\n",
       "      <th>2</th>\n",
       "      <td>1</td>\n",
       "      <td>0.0</td>\n",
       "      <td>0.0</td>\n",
       "      <td>0.0</td>\n",
       "      <td>0.0</td>\n",
       "      <td>0.0</td>\n",
       "      <td>-0.427599</td>\n",
       "    </tr>\n",
       "    <tr>\n",
       "      <th>3</th>\n",
       "      <td>0</td>\n",
       "      <td>0.0</td>\n",
       "      <td>0.0</td>\n",
       "      <td>0.0</td>\n",
       "      <td>0.0</td>\n",
       "      <td>0.0</td>\n",
       "      <td>-0.427599</td>\n",
       "    </tr>\n",
       "    <tr>\n",
       "      <th>4</th>\n",
       "      <td>0</td>\n",
       "      <td>0.0</td>\n",
       "      <td>0.0</td>\n",
       "      <td>0.0</td>\n",
       "      <td>0.0</td>\n",
       "      <td>0.0</td>\n",
       "      <td>-0.427599</td>\n",
       "    </tr>\n",
       "    <tr>\n",
       "      <th>...</th>\n",
       "      <td>...</td>\n",
       "      <td>...</td>\n",
       "      <td>...</td>\n",
       "      <td>...</td>\n",
       "      <td>...</td>\n",
       "      <td>...</td>\n",
       "      <td>...</td>\n",
       "    </tr>\n",
       "    <tr>\n",
       "      <th>9759</th>\n",
       "      <td>0</td>\n",
       "      <td>1.0</td>\n",
       "      <td>0.0</td>\n",
       "      <td>0.0</td>\n",
       "      <td>0.0</td>\n",
       "      <td>0.0</td>\n",
       "      <td>-1.006161</td>\n",
       "    </tr>\n",
       "    <tr>\n",
       "      <th>9760</th>\n",
       "      <td>1</td>\n",
       "      <td>0.0</td>\n",
       "      <td>0.0</td>\n",
       "      <td>0.0</td>\n",
       "      <td>0.0</td>\n",
       "      <td>0.0</td>\n",
       "      <td>-1.006161</td>\n",
       "    </tr>\n",
       "    <tr>\n",
       "      <th>9761</th>\n",
       "      <td>0</td>\n",
       "      <td>0.0</td>\n",
       "      <td>0.0</td>\n",
       "      <td>0.0</td>\n",
       "      <td>0.0</td>\n",
       "      <td>0.0</td>\n",
       "      <td>-1.006161</td>\n",
       "    </tr>\n",
       "    <tr>\n",
       "      <th>9762</th>\n",
       "      <td>0</td>\n",
       "      <td>0.0</td>\n",
       "      <td>0.0</td>\n",
       "      <td>0.0</td>\n",
       "      <td>0.0</td>\n",
       "      <td>0.0</td>\n",
       "      <td>-1.006161</td>\n",
       "    </tr>\n",
       "    <tr>\n",
       "      <th>9763</th>\n",
       "      <td>1</td>\n",
       "      <td>0.0</td>\n",
       "      <td>0.0</td>\n",
       "      <td>0.0</td>\n",
       "      <td>0.0</td>\n",
       "      <td>0.0</td>\n",
       "      <td>-1.006161</td>\n",
       "    </tr>\n",
       "  </tbody>\n",
       "</table>\n",
       "<p>9764 rows × 7 columns</p>\n",
       "</div>"
      ],
      "text/plain": [
       "      causedPressure  critical_down  long_distance  close_endzone  \\\n",
       "0                  0            0.0            0.0            0.0   \n",
       "1                  1            0.0            0.0            0.0   \n",
       "2                  1            0.0            0.0            0.0   \n",
       "3                  0            0.0            0.0            0.0   \n",
       "4                  0            0.0            0.0            0.0   \n",
       "...              ...            ...            ...            ...   \n",
       "9759               0            1.0            0.0            0.0   \n",
       "9760               1            0.0            0.0            0.0   \n",
       "9761               0            0.0            0.0            0.0   \n",
       "9762               0            0.0            0.0            0.0   \n",
       "9763               1            0.0            0.0            0.0   \n",
       "\n",
       "      close_safety  low_play_clock  qb_pressured_rate  \n",
       "0              0.0             0.0          -0.427599  \n",
       "1              0.0             0.0          -0.427599  \n",
       "2              0.0             0.0          -0.427599  \n",
       "3              0.0             0.0          -0.427599  \n",
       "4              0.0             0.0          -0.427599  \n",
       "...            ...             ...                ...  \n",
       "9759           0.0             0.0          -1.006161  \n",
       "9760           0.0             0.0          -1.006161  \n",
       "9761           0.0             0.0          -1.006161  \n",
       "9762           0.0             0.0          -1.006161  \n",
       "9763           0.0             0.0          -1.006161  \n",
       "\n",
       "[9764 rows x 7 columns]"
      ]
     },
     "execution_count": 45,
     "metadata": {},
     "output_type": "execute_result"
    }
   ],
   "source": [
    "data"
   ]
  },
  {
   "cell_type": "code",
   "execution_count": 10,
   "metadata": {},
   "outputs": [
    {
     "data": {
      "text/plain": [
       "<Axes: xlabel='causedPressure', ylabel='timeToThrow'>"
      ]
     },
     "execution_count": 10,
     "metadata": {},
     "output_type": "execute_result"
    },
    {
     "data": {
      "image/png": "[encoded data removed]",
      "text/plain": [
       "<Figure size 640x480 with 1 Axes>"
      ]
     },
     "metadata": {},
     "output_type": "display_data"
    }
   ],
   "source": [
    "sns.boxplot(x='causedPressure', y = 'timeToThrow', data=data)"
   ]
  },
  {
   "cell_type": "code",
   "execution_count": 11,
   "metadata": {},
   "outputs": [
    {
     "data": {
      "text/plain": [
       "dropbackType\n",
       "DESIGNED_ROLLOUT_LEFT     0.268421\n",
       "DESIGNED_ROLLOUT_RIGHT    0.262162\n",
       "DESIGNED_RUN              0.357143\n",
       "SCRAMBLE                  0.622485\n",
       "SCRAMBLE_ROLLOUT_LEFT     0.370370\n",
       "SCRAMBLE_ROLLOUT_RIGHT    0.504065\n",
       "TRADITIONAL               0.308518\n",
       "Name: causedPressure, dtype: float64"
      ]
     },
     "execution_count": 11,
     "metadata": {},
     "output_type": "execute_result"
    }
   ],
   "source": [
    "data.groupby('dropbackType')['causedPressure'].mean()"
   ]
  },
  {
   "cell_type": "code",
   "execution_count": 12,
   "metadata": {},
   "outputs": [],
   "source": [
    "data.loc[data['playClockAtSnap'] < 2, 'low_play_clock'] = 1.0\n",
    "data['low_play_clock'] = data['low_play_clock'].fillna(0.0)"
   ]
  },
  {
   "cell_type": "code",
   "execution_count": 13,
   "metadata": {},
   "outputs": [
    {
     "data": {
      "text/plain": [
       "low_play_clock\n",
       "0.0    0.335438\n",
       "1.0    0.350000\n",
       "Name: causedPressure, dtype: float64"
      ]
     },
     "execution_count": 13,
     "metadata": {},
     "output_type": "execute_result"
    }
   ],
   "source": [
    "data.groupby('low_play_clock')['causedPressure'].mean()"
   ]
  },
  {
   "cell_type": "code",
   "execution_count": 14,
   "metadata": {},
   "outputs": [],
   "source": [
    "data.loc[data['absoluteYardlineNumber'] < 15, 'close_endzone'] = 1.0\n",
    "data['close_endzone'] = data['close_endzone'].fillna(0.0)"
   ]
  },
  {
   "cell_type": "code",
   "execution_count": 15,
   "metadata": {},
   "outputs": [],
   "source": [
    "data.loc[data['absoluteYardlineNumber'] > 100, 'close_safety'] = 1.0\n",
    "data['close_safety'] = data['close_safety'].fillna(0.0)"
   ]
  },
  {
   "cell_type": "code",
   "execution_count": 16,
   "metadata": {},
   "outputs": [
    {
     "data": {
      "text/plain": [
       "close_endzone\n",
       "0.0    0.337139\n",
       "1.0    0.238462\n",
       "Name: causedPressure, dtype: float64"
      ]
     },
     "execution_count": 16,
     "metadata": {},
     "output_type": "execute_result"
    }
   ],
   "source": [
    "data.groupby('close_endzone')['causedPressure'].mean()"
   ]
  },
  {
   "cell_type": "code",
   "execution_count": 17,
   "metadata": {},
   "outputs": [],
   "source": [
    "def time_to_minutes(time_str):\n",
    "    minutes, seconds = map(int, time_str.split(\":\"))\n",
    "    return minutes + (seconds / 60)"
   ]
  },
  {
   "cell_type": "code",
   "execution_count": 18,
   "metadata": {},
   "outputs": [
    {
     "data": {
      "text/plain": [
       "two_minute_drill\n",
       "0.0    0.331487\n",
       "1.0    0.364559\n",
       "Name: causedPressure, dtype: float64"
      ]
     },
     "execution_count": 18,
     "metadata": {},
     "output_type": "execute_result"
    }
   ],
   "source": [
    "data['gameClock'] = data['gameClock'].apply(lambda x: time_to_minutes(x))\n",
    "data.loc[(data['quarter'].isin([2, 4])) & (data['gameClock'] < 2), 'two_minute_drill'] = 1.0\n",
    "data['two_minute_drill'] = data['two_minute_drill'].fillna(0.0)\n",
    "data.groupby('two_minute_drill')['causedPressure'].mean()"
   ]
  },
  {
   "cell_type": "code",
   "execution_count": 19,
   "metadata": {},
   "outputs": [],
   "source": [
    "data = pd.merge(data, games.loc[:, ['gameId', 'homeTeamAbbr', 'visitorTeamAbbr']], on = 'gameId', how ='left')"
   ]
  },
  {
   "cell_type": "code",
   "execution_count": 20,
   "metadata": {},
   "outputs": [],
   "source": [
    "data.loc[data['down'].isin([3, 4]), 'critical_down'] = 1.0\n",
    "data['critical_down'] = data['critical_down'].fillna(0.0)"
   ]
  },
  {
   "cell_type": "code",
   "execution_count": 21,
   "metadata": {},
   "outputs": [],
   "source": [
    "#data.loc[data['possessionTeam'] == data['homeTeamAbbr'], 'score_diff'] = data['preSnapHomeScore'] - data['preSnapVisitorScore'] \n",
    "#data.loc[data['possessionTeam'] == data['visitorTeamAbbr'], 'score_diff'] = data['preSnapVisitorScore'] - data['preSnapHomeScore'] \n",
    "#data['binned_score_diff'] = pd.qcut(data['score_diff'], q=8)"
   ]
  },
  {
   "cell_type": "code",
   "execution_count": 22,
   "metadata": {},
   "outputs": [],
   "source": [
    "data['avg_yards_to_go'] = data['yardsToGo']/(4-data['down'].clip(upper=3))\n",
    "data.loc[data['avg_yards_to_go'] > 5, 'long_distance'] = 1.0\n",
    "data['long_distance'] = data['long_distance'].fillna(0.0)"
   ]
  },
  {
   "cell_type": "code",
   "execution_count": 23,
   "metadata": {},
   "outputs": [
    {
     "data": {
      "text/html": [
       "<div>\n",
       "<style scoped>\n",
       "    .dataframe tbody tr th:only-of-type {\n",
       "        vertical-align: middle;\n",
       "    }\n",
       "\n",
       "    .dataframe tbody tr th {\n",
       "        vertical-align: top;\n",
       "    }\n",
       "\n",
       "    .dataframe thead th {\n",
       "        text-align: right;\n",
       "    }\n",
       "</style>\n",
       "<table border=\"1\" class=\"dataframe\">\n",
       "  <thead>\n",
       "    <tr style=\"text-align: right;\">\n",
       "      <th></th>\n",
       "      <th>mean</th>\n",
       "      <th>count</th>\n",
       "    </tr>\n",
       "    <tr>\n",
       "      <th>long_distance</th>\n",
       "      <th></th>\n",
       "      <th></th>\n",
       "    </tr>\n",
       "  </thead>\n",
       "  <tbody>\n",
       "    <tr>\n",
       "      <th>0.0</th>\n",
       "      <td>0.309217</td>\n",
       "      <td>7367</td>\n",
       "    </tr>\n",
       "    <tr>\n",
       "      <th>1.0</th>\n",
       "      <td>0.417605</td>\n",
       "      <td>2397</td>\n",
       "    </tr>\n",
       "  </tbody>\n",
       "</table>\n",
       "</div>"
      ],
      "text/plain": [
       "                   mean  count\n",
       "long_distance                 \n",
       "0.0            0.309217   7367\n",
       "1.0            0.417605   2397"
      ]
     },
     "execution_count": 23,
     "metadata": {},
     "output_type": "execute_result"
    }
   ],
   "source": [
    "data.groupby('long_distance')['causedPressure'].agg(['mean', 'count'])"
   ]
  },
  {
   "cell_type": "code",
   "execution_count": 24,
   "metadata": {},
   "outputs": [
    {
     "data": {
      "text/html": [
       "<div>\n",
       "<style scoped>\n",
       "    .dataframe tbody tr th:only-of-type {\n",
       "        vertical-align: middle;\n",
       "    }\n",
       "\n",
       "    .dataframe tbody tr th {\n",
       "        vertical-align: top;\n",
       "    }\n",
       "\n",
       "    .dataframe thead th {\n",
       "        text-align: right;\n",
       "    }\n",
       "</style>\n",
       "<table border=\"1\" class=\"dataframe\">\n",
       "  <thead>\n",
       "    <tr style=\"text-align: right;\">\n",
       "      <th></th>\n",
       "      <th>mean</th>\n",
       "      <th>count</th>\n",
       "    </tr>\n",
       "    <tr>\n",
       "      <th>critical_down</th>\n",
       "      <th></th>\n",
       "      <th></th>\n",
       "    </tr>\n",
       "  </thead>\n",
       "  <tbody>\n",
       "    <tr>\n",
       "      <th>0.0</th>\n",
       "      <td>0.299378</td>\n",
       "      <td>6911</td>\n",
       "    </tr>\n",
       "    <tr>\n",
       "      <th>1.0</th>\n",
       "      <td>0.424115</td>\n",
       "      <td>2853</td>\n",
       "    </tr>\n",
       "  </tbody>\n",
       "</table>\n",
       "</div>"
      ],
      "text/plain": [
       "                   mean  count\n",
       "critical_down                 \n",
       "0.0            0.299378   6911\n",
       "1.0            0.424115   2853"
      ]
     },
     "execution_count": 24,
     "metadata": {},
     "output_type": "execute_result"
    }
   ],
   "source": [
    "data.groupby(['critical_down'])['causedPressure'].agg(['mean', 'count'])"
   ]
  },
  {
   "cell_type": "code",
   "execution_count": 25,
   "metadata": {},
   "outputs": [],
   "source": [
    "#data.groupby('binned_score_diff')['causedPressure'].agg(['mean', 'count'])"
   ]
  },
  {
   "cell_type": "code",
   "execution_count": 26,
   "metadata": {},
   "outputs": [],
   "source": [
    "#data.loc[data['score_diff'] >= 14, 'big_score_diff'] = 1.0\n",
    "#data['big_score_diff'] = data['big_score_diff'].fillna(0.0)"
   ]
  },
  {
   "cell_type": "code",
   "execution_count": 27,
   "metadata": {},
   "outputs": [],
   "source": [
    "# Feature 1: offenseFormation\n",
    "data['offenseFormation'].value_counts()\n",
    "off_formation_mapping = {'SHOTGUN':1, 'SINGLEBACK':0, 'EMPTY':1, 'I_FORM':0, 'PISTOL':0,\n",
    "                         'JUMBO':0, 'WILDCAT':1}\n",
    "\n",
    "data['is_shotgun'] = data['offenseFormation'].map(off_formation_mapping)\n"
   ]
  },
  {
   "cell_type": "code",
   "execution_count": 28,
   "metadata": {},
   "outputs": [
    {
     "data": {
      "text/html": [
       "<div>\n",
       "<style scoped>\n",
       "    .dataframe tbody tr th:only-of-type {\n",
       "        vertical-align: middle;\n",
       "    }\n",
       "\n",
       "    .dataframe tbody tr th {\n",
       "        vertical-align: top;\n",
       "    }\n",
       "\n",
       "    .dataframe thead th {\n",
       "        text-align: right;\n",
       "    }\n",
       "</style>\n",
       "<table border=\"1\" class=\"dataframe\">\n",
       "  <thead>\n",
       "    <tr style=\"text-align: right;\">\n",
       "      <th></th>\n",
       "      <th>mean</th>\n",
       "      <th>count</th>\n",
       "    </tr>\n",
       "    <tr>\n",
       "      <th>is_shotgun</th>\n",
       "      <th></th>\n",
       "      <th></th>\n",
       "    </tr>\n",
       "  </thead>\n",
       "  <tbody>\n",
       "    <tr>\n",
       "      <th>0</th>\n",
       "      <td>0.338330</td>\n",
       "      <td>1868</td>\n",
       "    </tr>\n",
       "    <tr>\n",
       "      <th>1</th>\n",
       "      <td>0.335233</td>\n",
       "      <td>7896</td>\n",
       "    </tr>\n",
       "  </tbody>\n",
       "</table>\n",
       "</div>"
      ],
      "text/plain": [
       "                mean  count\n",
       "is_shotgun                 \n",
       "0           0.338330   1868\n",
       "1           0.335233   7896"
      ]
     },
     "execution_count": 28,
     "metadata": {},
     "output_type": "execute_result"
    }
   ],
   "source": [
    "data.groupby('is_shotgun')['causedPressure'].agg(['mean', 'count'])"
   ]
  },
  {
   "cell_type": "code",
   "execution_count": 29,
   "metadata": {},
   "outputs": [],
   "source": [
    "data = data.loc[:, ['causedPressure', 'critical_down', 'long_distance', 'close_endzone', 'close_safety', 'low_play_clock', 'qb_pressured_rate']]"
   ]
  },
  {
   "cell_type": "code",
   "execution_count": 30,
   "metadata": {},
   "outputs": [
    {
     "name": "stdout",
     "output_type": "stream",
     "text": [
      "Training set size: 6834\n",
      "Validation set size: 1465\n",
      "Test set size: 1465\n"
     ]
    }
   ],
   "source": [
    "# Replace 'target' with the actual column name of your target variable\n",
    "X = data.drop(columns=['causedPressure'])  # Features\n",
    "y = data['causedPressure']  # Target variable\n",
    "\n",
    "# Step 1: Split into train and temp (70-30 split)\n",
    "X_train, X_temp, y_train, y_temp = train_test_split(X, y, test_size=0.3, random_state=42, stratify=y)\n",
    "\n",
    "# Step 2: Split temp into validation and test (50-50 split of the remaining 30%)\n",
    "X_val, X_test, y_val, y_test = train_test_split(X_temp, y_temp, test_size=0.5, random_state=42, stratify=y_temp)\n",
    "\n",
    "\"\"\"\n",
    "train = pd.concat([X_train, y_train], axis=1)\n",
    "# Step 1: Count the number of rows where causedPressure is 1\n",
    "count_pressure_1 = train[train['causedPressure'] == 1].shape[0]\n",
    "print(f\"Number of rows where causedPressure is 1: {count_pressure_1}\")\n",
    "\n",
    "count_pressure_0 = train[train['causedPressure'] == 0].shape[0]\n",
    "print(f\"Number of rows where causedPressure is 0: {count_pressure_0}\")\n",
    "\n",
    "# Step 2: Randomly sample the same number of rows where causedPressure is 0\n",
    "sampled_pressure_0 = train[train['causedPressure'] == 0].sample(n=count_pressure_1, random_state=42)\n",
    "\n",
    "# Step 3: Get all rows where causedPressure is 1\n",
    "pressure_1 = train[train['causedPressure'] == 1]\n",
    "\n",
    "# Step 4: Concatenate the sampled rows with the rows where causedPressure is 1\n",
    "balanced_final_df = pd.concat([sampled_pressure_0, pressure_1])\n",
    "\n",
    "X_train = balanced_final_df.drop('causedPressure', axis=1)\n",
    "y_train = balanced_final_df['causedPressure']\n",
    "\"\"\"\n",
    "\n",
    "# Print the sizes of each dataset\n",
    "print(\"Training set size:\", X_train.shape[0])\n",
    "print(\"Validation set size:\", X_val.shape[0])\n",
    "print(\"Test set size:\", X_test.shape[0])\n"
   ]
  },
  {
   "cell_type": "code",
   "execution_count": 31,
   "metadata": {},
   "outputs": [
    {
     "name": "stdout",
     "output_type": "stream",
     "text": [
      "Percentage of positive examples in y_train: 0.3358208955223881\n",
      "Percentage of positive examples in y_val: 0.33583617747440275\n",
      "Percentage of positive examples in y_test: 0.33583617747440275\n"
     ]
    }
   ],
   "source": [
    "# Print the percentage of positive examples in the y_train, y_val, and y_test\n",
    "print(\"Percentage of positive examples in y_train:\", y_train.mean())\n",
    "print(\"Percentage of positive examples in y_val:\", y_val.mean())\n",
    "print(\"Percentage of positive examples in y_test:\", y_test.mean())"
   ]
  },
  {
   "cell_type": "markdown",
   "metadata": {},
   "source": [
    "# Baseline Model"
   ]
  },
  {
   "cell_type": "code",
   "execution_count": 32,
   "metadata": {},
   "outputs": [
    {
     "name": "stdout",
     "output_type": "stream",
     "text": [
      "Validation Metrics:\n",
      "Mean Absolute Error (MAE): 0.3345\n",
      "Mean Squared Error (MSE): 0.3345\n",
      "R² Score: -0.4995\n",
      "\n",
      "Test Metrics:\n",
      "Mean Absolute Error (MAE): 0.3447\n",
      "Mean Squared Error (MSE): 0.3447\n",
      "R² Score: -0.5454\n",
      "\n",
      "Sample Predictions:\n",
      "      Actual  Predicted\n",
      "3108       0          0\n",
      "482        0          0\n",
      "5076       0          0\n",
      "9057       1          0\n",
      "6418       1          0\n",
      "Test Accuracy: 0.6553\n",
      "Confusion Matrix:\n",
      "[[932  41]\n",
      " [464  28]]\n"
     ]
    },
    {
     "data": {
      "image/png": "[encoded data removed]",
      "text/plain": [
       "<Figure size 800x600 with 2 Axes>"
      ]
     },
     "metadata": {},
     "output_type": "display_data"
    }
   ],
   "source": [
    "# Initialize and train the Linear Regression model\n",
    "model = LogisticRegression()\n",
    "model.fit(X_train, y_train)\n",
    "\n",
    "# Make predictions on validation and test sets\n",
    "y_val_pred = model.predict(X_val)\n",
    "y_test_pred = model.predict(X_test)\n",
    "\n",
    "# Evaluate the model on the validation set\n",
    "print(\"Validation Metrics:\")\n",
    "print(f\"Mean Absolute Error (MAE): {mean_absolute_error(y_val, y_val_pred):.4f}\")\n",
    "print(f\"Mean Squared Error (MSE): {mean_squared_error(y_val, y_val_pred):.4f}\")\n",
    "print(f\"R² Score: {r2_score(y_val, y_val_pred):.4f}\")\n",
    "\n",
    "# Evaluate the model on the test set\n",
    "print(\"\\nTest Metrics:\")\n",
    "print(f\"Mean Absolute Error (MAE): {mean_absolute_error(y_test, y_test_pred):.4f}\")\n",
    "print(f\"Mean Squared Error (MSE): {mean_squared_error(y_test, y_test_pred):.4f}\")\n",
    "print(f\"R² Score: {r2_score(y_test, y_test_pred):.4f}\")\n",
    "\n",
    "# Optional: Compare actual vs predicted values on the test set\n",
    "results = pd.DataFrame({'Actual': y_test, 'Predicted': y_test_pred})\n",
    "print(\"\\nSample Predictions:\")\n",
    "print(results.head())\n",
    "\n",
    "# Calculate accuracy\n",
    "accuracy = accuracy_score(y_test, y_test_pred.round())\n",
    "print(f\"Test Accuracy: {accuracy:.4f}\")\n",
    "\n",
    "# Compute the confusion matrix\n",
    "cm = confusion_matrix(y_test, y_test_pred.round())\n",
    "\n",
    "# Print the raw confusion matrix\n",
    "print(\"Confusion Matrix:\")\n",
    "print(cm)\n",
    "\n",
    "# Optional: Visualize the confusion matrix with a heatmap\n",
    "plt.figure(figsize=(8, 6))\n",
    "sns.heatmap(cm, annot=True, fmt='d', cmap='Blues', xticklabels=[0, 1], yticklabels=[0, 1])\n",
    "plt.xlabel('Predicted')\n",
    "plt.ylabel('True')\n",
    "plt.title('Confusion Matrix')\n",
    "plt.show()\n"
   ]
  },
  {
   "cell_type": "code",
   "execution_count": 33,
   "metadata": {},
   "outputs": [],
   "source": [
    "model_weights = pd.DataFrame(index = X.columns)"
   ]
  },
  {
   "cell_type": "code",
   "execution_count": 34,
   "metadata": {},
   "outputs": [],
   "source": [
    "model_weights['odds_multiplier'] = np.exp(model.coef_).reshape(-1)"
   ]
  },
  {
   "cell_type": "code",
   "execution_count": 35,
   "metadata": {},
   "outputs": [
    {
     "data": {
      "text/html": [
       "<div>\n",
       "<style scoped>\n",
       "    .dataframe tbody tr th:only-of-type {\n",
       "        vertical-align: middle;\n",
       "    }\n",
       "\n",
       "    .dataframe tbody tr th {\n",
       "        vertical-align: top;\n",
       "    }\n",
       "\n",
       "    .dataframe thead th {\n",
       "        text-align: right;\n",
       "    }\n",
       "</style>\n",
       "<table border=\"1\" class=\"dataframe\">\n",
       "  <thead>\n",
       "    <tr style=\"text-align: right;\">\n",
       "      <th></th>\n",
       "      <th>odds_multiplier</th>\n",
       "    </tr>\n",
       "  </thead>\n",
       "  <tbody>\n",
       "    <tr>\n",
       "      <th>critical_down</th>\n",
       "      <td>1.558519</td>\n",
       "    </tr>\n",
       "    <tr>\n",
       "      <th>long_distance</th>\n",
       "      <td>1.210239</td>\n",
       "    </tr>\n",
       "    <tr>\n",
       "      <th>close_endzone</th>\n",
       "      <td>0.687867</td>\n",
       "    </tr>\n",
       "    <tr>\n",
       "      <th>close_safety</th>\n",
       "      <td>0.800838</td>\n",
       "    </tr>\n",
       "    <tr>\n",
       "      <th>low_play_clock</th>\n",
       "      <td>0.971917</td>\n",
       "    </tr>\n",
       "    <tr>\n",
       "      <th>qb_pressured_rate</th>\n",
       "      <td>1.361245</td>\n",
       "    </tr>\n",
       "  </tbody>\n",
       "</table>\n",
       "</div>"
      ],
      "text/plain": [
       "                   odds_multiplier\n",
       "critical_down             1.558519\n",
       "long_distance             1.210239\n",
       "close_endzone             0.687867\n",
       "close_safety              0.800838\n",
       "low_play_clock            0.971917\n",
       "qb_pressured_rate         1.361245"
      ]
     },
     "execution_count": 35,
     "metadata": {},
     "output_type": "execute_result"
    }
   ],
   "source": [
    "model_weights"
   ]
  },
  {
   "cell_type": "markdown",
   "metadata": {},
   "source": [
    "# XGBoost model"
   ]
  },
  {
   "cell_type": "markdown",
   "metadata": {},
   "source": [
    "# Hyperparamater Tuning"
   ]
  },
  {
   "cell_type": "code",
   "execution_count": 46,
   "metadata": {},
   "outputs": [
    {
     "name": "stdout",
     "output_type": "stream",
     "text": [
      "Best Parameters: {'subsample': 0.8, 'reg_lambda': 0, 'n_estimators': 300, 'max_depth': 3, 'learning_rate': 0.01, 'eta': np.float64(0.01), 'colsample_bytree': 0.8}\n",
      "Min Neg Log Loss = -0.678 | Max F1 Score = 0.493 | Max AUC Score = 0.605\n"
     ]
    },
    {
     "data": {
      "text/html": [
       "<div>\n",
       "<style scoped>\n",
       "    .dataframe tbody tr th:only-of-type {\n",
       "        vertical-align: middle;\n",
       "    }\n",
       "\n",
       "    .dataframe tbody tr th {\n",
       "        vertical-align: top;\n",
       "    }\n",
       "\n",
       "    .dataframe thead th {\n",
       "        text-align: right;\n",
       "    }\n",
       "</style>\n",
       "<table border=\"1\" class=\"dataframe\">\n",
       "  <thead>\n",
       "    <tr style=\"text-align: right;\">\n",
       "      <th></th>\n",
       "      <th>params</th>\n",
       "      <th>mean_test_neg_log_loss</th>\n",
       "      <th>rank_test_neg_log_loss</th>\n",
       "      <th>mean_test_f1</th>\n",
       "      <th>rank_test_f1</th>\n",
       "      <th>mean_test_roc_auc</th>\n",
       "      <th>rank_test_roc_auc</th>\n",
       "    </tr>\n",
       "  </thead>\n",
       "  <tbody>\n",
       "    <tr>\n",
       "      <th>6</th>\n",
       "      <td>{'subsample': 0.8, 'reg_lambda': 0, 'n_estimat...</td>\n",
       "      <td>-0.677520</td>\n",
       "      <td>1</td>\n",
       "      <td>0.475669</td>\n",
       "      <td>7</td>\n",
       "      <td>0.604800</td>\n",
       "      <td>2</td>\n",
       "    </tr>\n",
       "    <tr>\n",
       "      <th>15</th>\n",
       "      <td>{'subsample': 1.0, 'reg_lambda': 10, 'n_estima...</td>\n",
       "      <td>-0.678114</td>\n",
       "      <td>2</td>\n",
       "      <td>0.482566</td>\n",
       "      <td>4</td>\n",
       "      <td>0.604337</td>\n",
       "      <td>4</td>\n",
       "    </tr>\n",
       "    <tr>\n",
       "      <th>2</th>\n",
       "      <td>{'subsample': 0.8, 'reg_lambda': 10, 'n_estima...</td>\n",
       "      <td>-0.679210</td>\n",
       "      <td>3</td>\n",
       "      <td>0.454782</td>\n",
       "      <td>17</td>\n",
       "      <td>0.595192</td>\n",
       "      <td>8</td>\n",
       "    </tr>\n",
       "    <tr>\n",
       "      <th>1</th>\n",
       "      <td>{'subsample': 1.0, 'reg_lambda': 0, 'n_estimat...</td>\n",
       "      <td>-0.680587</td>\n",
       "      <td>4</td>\n",
       "      <td>0.474445</td>\n",
       "      <td>8</td>\n",
       "      <td>0.595140</td>\n",
       "      <td>9</td>\n",
       "    </tr>\n",
       "    <tr>\n",
       "      <th>14</th>\n",
       "      <td>{'subsample': 1.0, 'reg_lambda': 0, 'n_estimat...</td>\n",
       "      <td>-0.680587</td>\n",
       "      <td>4</td>\n",
       "      <td>0.474445</td>\n",
       "      <td>8</td>\n",
       "      <td>0.595140</td>\n",
       "      <td>9</td>\n",
       "    </tr>\n",
       "  </tbody>\n",
       "</table>\n",
       "</div>"
      ],
      "text/plain": [
       "                                               params  mean_test_neg_log_loss  \\\n",
       "6   {'subsample': 0.8, 'reg_lambda': 0, 'n_estimat...               -0.677520   \n",
       "15  {'subsample': 1.0, 'reg_lambda': 10, 'n_estima...               -0.678114   \n",
       "2   {'subsample': 0.8, 'reg_lambda': 10, 'n_estima...               -0.679210   \n",
       "1   {'subsample': 1.0, 'reg_lambda': 0, 'n_estimat...               -0.680587   \n",
       "14  {'subsample': 1.0, 'reg_lambda': 0, 'n_estimat...               -0.680587   \n",
       "\n",
       "    rank_test_neg_log_loss  mean_test_f1  rank_test_f1  mean_test_roc_auc  \\\n",
       "6                        1      0.475669             7           0.604800   \n",
       "15                       2      0.482566             4           0.604337   \n",
       "2                        3      0.454782            17           0.595192   \n",
       "1                        4      0.474445             8           0.595140   \n",
       "14                       4      0.474445             8           0.595140   \n",
       "\n",
       "    rank_test_roc_auc  \n",
       "6                   2  \n",
       "15                  4  \n",
       "2                   8  \n",
       "1                   9  \n",
       "14                  9  "
      ]
     },
     "execution_count": 46,
     "metadata": {},
     "output_type": "execute_result"
    }
   ],
   "source": [
    "from sklearn.model_selection import RandomizedSearchCV\n",
    "from xgboost import XGBClassifier\n",
    "import numpy as np\n",
    "\n",
    "# 1. Define a parameter grid for XGBoost hyperparameters\n",
    "param_dist = {\n",
    "    \"n_estimators\": [100, 200, 300],\n",
    "    \"max_depth\": [3, 6, 10],\n",
    "    \"learning_rate\": [0.1, 0.01, 0.001],\n",
    "    \"subsample\": [0.8, 0.9, 1.0],\n",
    "    \"colsample_bytree\": [0.8, 0.9, 1.0],\n",
    "    \"reg_lambda\": [0, 1, 10],\n",
    "    \"eta\": np.logspace(-3, 0, 4)\n",
    "}\n",
    "\n",
    "# 2. Initialize an XGBoost classifier\n",
    "xgb_clf = XGBClassifier(\n",
    "    objective=\"binary:logistic\", \n",
    "    reg_lambda=150,\n",
    "    scale_pos_weight = 2 # 0 class is twice as likely as 1 class\n",
    ")\n",
    "\n",
    "# 3. Instantiate the RandomizedSearchCV\n",
    "#    n_iter: number of random parameter settings to try\n",
    "#    cv: number of folds in cross-validation\n",
    "#    scoring: metric used for selection\n",
    "random_search = RandomizedSearchCV(\n",
    "    estimator=xgb_clf,\n",
    "    param_distributions=param_dist,\n",
    "    n_iter=20,                  # Adjust to your preference\n",
    "    scoring=['neg_log_loss', 'f1', 'roc_auc'],\n",
    "    refit='neg_log_loss',         \n",
    "    cv=3,                       # K-fold cross-validation               # Use all available cores\n",
    ")\n",
    "\n",
    "#clf = RandomizedSearchCV(tree, param_dict, n_iter=100, cv=5, verbose=2, random_state=1234, scoring=['neg_log_loss', 'f1', 'roc_auc'], refit='neg_log_loss')\n",
    "\n",
    "# fit the model\n",
    "\n",
    "# 4. Fit the RandomizedSearchCV on your training set\n",
    "random_search.fit(X_train, y_train)\n",
    "\n",
    "# print the best parameters and scores\n",
    "cv_results = random_search.cv_results_\n",
    "print(f\"Best Parameters: {random_search.best_params_}\")\n",
    "\n",
    "df_cv_results = pd.DataFrame(cv_results)\n",
    "df_cv_results.sort_values(by=[\"rank_test_neg_log_loss\", \"rank_test_f1\", \"rank_test_roc_auc\"], ascending=[True, True, True], inplace=True)\n",
    "print(f\"Min Neg Log Loss = {df_cv_results['mean_test_neg_log_loss'].max():.3f} | Max F1 Score = {df_cv_results['mean_test_f1'].max():.3f} | Max AUC Score = {df_cv_results['mean_test_roc_auc'].max():.3f}\")\n",
    "df_cv_results[[\"params\", \"mean_test_neg_log_loss\", \"rank_test_neg_log_loss\", \"mean_test_f1\", \"rank_test_f1\", \"mean_test_roc_auc\", \"rank_test_roc_auc\"]].head()\n"
   ]
  },
  {
   "cell_type": "code",
   "execution_count": 49,
   "metadata": {},
   "outputs": [
    {
     "name": "stdout",
     "output_type": "stream",
     "text": [
      "[0]\tvalidation_0-logloss:0.69478\n",
      "[1]\tvalidation_0-logloss:0.69463\n",
      "[2]\tvalidation_0-logloss:0.69445\n",
      "[3]\tvalidation_0-logloss:0.69416\n",
      "[4]\tvalidation_0-logloss:0.69399\n",
      "[5]\tvalidation_0-logloss:0.69369\n",
      "[6]\tvalidation_0-logloss:0.69339\n",
      "[7]\tvalidation_0-logloss:0.69328\n",
      "[8]\tvalidation_0-logloss:0.69290\n",
      "[9]\tvalidation_0-logloss:0.69281\n",
      "[10]\tvalidation_0-logloss:0.69251\n",
      "[11]\tvalidation_0-logloss:0.69211\n",
      "[12]\tvalidation_0-logloss:0.69187\n",
      "[13]\tvalidation_0-logloss:0.69157\n",
      "[14]\tvalidation_0-logloss:0.69141\n",
      "[15]\tvalidation_0-logloss:0.69112\n",
      "[16]\tvalidation_0-logloss:0.69083\n",
      "[17]\tvalidation_0-logloss:0.69060\n",
      "[18]\tvalidation_0-logloss:0.69051\n",
      "[19]\tvalidation_0-logloss:0.69026\n",
      "[20]\tvalidation_0-logloss:0.69019\n",
      "[21]\tvalidation_0-logloss:0.68994\n",
      "[22]\tvalidation_0-logloss:0.68981\n",
      "[23]\tvalidation_0-logloss:0.68960\n",
      "[24]\tvalidation_0-logloss:0.68950\n",
      "[25]\tvalidation_0-logloss:0.68938\n",
      "[26]\tvalidation_0-logloss:0.68923\n",
      "[27]\tvalidation_0-logloss:0.68910\n",
      "[28]\tvalidation_0-logloss:0.68892\n",
      "[29]\tvalidation_0-logloss:0.68878\n",
      "[30]\tvalidation_0-logloss:0.68866\n",
      "[31]\tvalidation_0-logloss:0.68858\n",
      "[32]\tvalidation_0-logloss:0.68853\n",
      "[33]\tvalidation_0-logloss:0.68832\n",
      "[34]\tvalidation_0-logloss:0.68815\n",
      "[35]\tvalidation_0-logloss:0.68797\n",
      "[36]\tvalidation_0-logloss:0.68777\n",
      "[37]\tvalidation_0-logloss:0.68768\n",
      "[38]\tvalidation_0-logloss:0.68748\n",
      "[39]\tvalidation_0-logloss:0.68734\n",
      "[40]\tvalidation_0-logloss:0.68715\n",
      "[41]\tvalidation_0-logloss:0.68691\n",
      "[42]\tvalidation_0-logloss:0.68670\n"
     ]
    },
    {
     "name": "stderr",
     "output_type": "stream",
     "text": [
      "c:\\Users\\johng\\Documents\\Data Science Competition team\\big-data-bowl\\venv\\Lib\\site-packages\\xgboost\\core.py:158: UserWarning: [18:39:39] WARNING: C:\\buildkite-agent\\builds\\buildkite-windows-cpu-autoscaling-group-i-0c55ff5f71b100e98-1\\xgboost\\xgboost-ci-windows\\src\\learner.cc:740: \n",
      "Parameters: { \"scoring\" } are not used.\n",
      "\n",
      "  warnings.warn(smsg, UserWarning)\n"
     ]
    },
    {
     "name": "stdout",
     "output_type": "stream",
     "text": [
      "[43]\tvalidation_0-logloss:0.68660\n",
      "[44]\tvalidation_0-logloss:0.68647\n",
      "[45]\tvalidation_0-logloss:0.68637\n",
      "[46]\tvalidation_0-logloss:0.68623\n",
      "[47]\tvalidation_0-logloss:0.68610\n",
      "[48]\tvalidation_0-logloss:0.68596\n",
      "[49]\tvalidation_0-logloss:0.68581\n",
      "[50]\tvalidation_0-logloss:0.68572\n",
      "[51]\tvalidation_0-logloss:0.68562\n",
      "[52]\tvalidation_0-logloss:0.68560\n",
      "[53]\tvalidation_0-logloss:0.68550\n",
      "[54]\tvalidation_0-logloss:0.68530\n",
      "[55]\tvalidation_0-logloss:0.68520\n",
      "[56]\tvalidation_0-logloss:0.68500\n",
      "[57]\tvalidation_0-logloss:0.68493\n",
      "[58]\tvalidation_0-logloss:0.68486\n",
      "[59]\tvalidation_0-logloss:0.68478\n",
      "[60]\tvalidation_0-logloss:0.68468\n",
      "[61]\tvalidation_0-logloss:0.68456\n",
      "[62]\tvalidation_0-logloss:0.68445\n",
      "[63]\tvalidation_0-logloss:0.68440\n",
      "[64]\tvalidation_0-logloss:0.68430\n",
      "[65]\tvalidation_0-logloss:0.68424\n",
      "[66]\tvalidation_0-logloss:0.68416\n",
      "[67]\tvalidation_0-logloss:0.68405\n",
      "[68]\tvalidation_0-logloss:0.68388\n",
      "[69]\tvalidation_0-logloss:0.68377\n",
      "[70]\tvalidation_0-logloss:0.68374\n",
      "[71]\tvalidation_0-logloss:0.68366\n",
      "[72]\tvalidation_0-logloss:0.68359\n",
      "[73]\tvalidation_0-logloss:0.68353\n",
      "[74]\tvalidation_0-logloss:0.68342\n",
      "[75]\tvalidation_0-logloss:0.68338\n",
      "[76]\tvalidation_0-logloss:0.68329\n",
      "[77]\tvalidation_0-logloss:0.68321\n",
      "[78]\tvalidation_0-logloss:0.68309\n",
      "[79]\tvalidation_0-logloss:0.68302\n",
      "[80]\tvalidation_0-logloss:0.68290\n",
      "[81]\tvalidation_0-logloss:0.68281\n",
      "[82]\tvalidation_0-logloss:0.68273\n",
      "[83]\tvalidation_0-logloss:0.68268\n",
      "[84]\tvalidation_0-logloss:0.68262\n",
      "[85]\tvalidation_0-logloss:0.68254\n",
      "[86]\tvalidation_0-logloss:0.68246\n",
      "[87]\tvalidation_0-logloss:0.68240\n",
      "[88]\tvalidation_0-logloss:0.68233\n",
      "[89]\tvalidation_0-logloss:0.68226\n",
      "[90]\tvalidation_0-logloss:0.68222\n",
      "[91]\tvalidation_0-logloss:0.68217\n",
      "[92]\tvalidation_0-logloss:0.68212\n",
      "[93]\tvalidation_0-logloss:0.68202\n",
      "[94]\tvalidation_0-logloss:0.68197\n",
      "[95]\tvalidation_0-logloss:0.68192\n",
      "[96]\tvalidation_0-logloss:0.68186\n",
      "[97]\tvalidation_0-logloss:0.68181\n",
      "[98]\tvalidation_0-logloss:0.68173\n",
      "[99]\tvalidation_0-logloss:0.68169\n",
      "[100]\tvalidation_0-logloss:0.68167\n",
      "[101]\tvalidation_0-logloss:0.68164\n",
      "[102]\tvalidation_0-logloss:0.68160\n",
      "[103]\tvalidation_0-logloss:0.68151\n",
      "[104]\tvalidation_0-logloss:0.68146\n",
      "[105]\tvalidation_0-logloss:0.68138\n",
      "[106]\tvalidation_0-logloss:0.68139\n",
      "[107]\tvalidation_0-logloss:0.68138\n",
      "[108]\tvalidation_0-logloss:0.68138\n",
      "[109]\tvalidation_0-logloss:0.68136\n",
      "[110]\tvalidation_0-logloss:0.68128\n",
      "[111]\tvalidation_0-logloss:0.68127\n",
      "[112]\tvalidation_0-logloss:0.68113\n",
      "[113]\tvalidation_0-logloss:0.68103\n",
      "[114]\tvalidation_0-logloss:0.68101\n",
      "[115]\tvalidation_0-logloss:0.68096\n",
      "[116]\tvalidation_0-logloss:0.68094\n",
      "[117]\tvalidation_0-logloss:0.68094\n",
      "[118]\tvalidation_0-logloss:0.68087\n",
      "[119]\tvalidation_0-logloss:0.68085\n",
      "[120]\tvalidation_0-logloss:0.68086\n",
      "[121]\tvalidation_0-logloss:0.68086\n",
      "[122]\tvalidation_0-logloss:0.68087\n",
      "[123]\tvalidation_0-logloss:0.68092\n",
      "[124]\tvalidation_0-logloss:0.68089\n",
      "[125]\tvalidation_0-logloss:0.68089\n",
      "[126]\tvalidation_0-logloss:0.68087\n",
      "[127]\tvalidation_0-logloss:0.68087\n",
      "[128]\tvalidation_0-logloss:0.68083\n",
      "[129]\tvalidation_0-logloss:0.68082\n",
      "[130]\tvalidation_0-logloss:0.68073\n",
      "[131]\tvalidation_0-logloss:0.68067\n",
      "[132]\tvalidation_0-logloss:0.68063\n",
      "[133]\tvalidation_0-logloss:0.68063\n",
      "[134]\tvalidation_0-logloss:0.68056\n",
      "[135]\tvalidation_0-logloss:0.68054\n",
      "[136]\tvalidation_0-logloss:0.68052\n",
      "[137]\tvalidation_0-logloss:0.68051\n",
      "[138]\tvalidation_0-logloss:0.68053\n",
      "[139]\tvalidation_0-logloss:0.68049\n",
      "[140]\tvalidation_0-logloss:0.68046\n",
      "[141]\tvalidation_0-logloss:0.68042\n",
      "[142]\tvalidation_0-logloss:0.68040\n",
      "[143]\tvalidation_0-logloss:0.68038\n",
      "[144]\tvalidation_0-logloss:0.68038\n",
      "[145]\tvalidation_0-logloss:0.68033\n",
      "[146]\tvalidation_0-logloss:0.68036\n",
      "[147]\tvalidation_0-logloss:0.68033\n",
      "[148]\tvalidation_0-logloss:0.68033\n",
      "[149]\tvalidation_0-logloss:0.68031\n",
      "[150]\tvalidation_0-logloss:0.68034\n",
      "[151]\tvalidation_0-logloss:0.68034\n",
      "[152]\tvalidation_0-logloss:0.68031\n",
      "[153]\tvalidation_0-logloss:0.68027\n",
      "[154]\tvalidation_0-logloss:0.68024\n",
      "[155]\tvalidation_0-logloss:0.68021\n",
      "[156]\tvalidation_0-logloss:0.68023\n",
      "[157]\tvalidation_0-logloss:0.68020\n",
      "[158]\tvalidation_0-logloss:0.68019\n",
      "[159]\tvalidation_0-logloss:0.68022\n",
      "[160]\tvalidation_0-logloss:0.68021\n",
      "[161]\tvalidation_0-logloss:0.68022\n",
      "[162]\tvalidation_0-logloss:0.68019\n",
      "[163]\tvalidation_0-logloss:0.68020\n",
      "[164]\tvalidation_0-logloss:0.68020\n",
      "[165]\tvalidation_0-logloss:0.68021\n",
      "[166]\tvalidation_0-logloss:0.68016\n",
      "[167]\tvalidation_0-logloss:0.68017\n",
      "[168]\tvalidation_0-logloss:0.68019\n",
      "[169]\tvalidation_0-logloss:0.68017\n",
      "[170]\tvalidation_0-logloss:0.68009\n",
      "[171]\tvalidation_0-logloss:0.68011\n",
      "[172]\tvalidation_0-logloss:0.68008\n",
      "[173]\tvalidation_0-logloss:0.68005\n",
      "[174]\tvalidation_0-logloss:0.68005\n",
      "[175]\tvalidation_0-logloss:0.68010\n",
      "[176]\tvalidation_0-logloss:0.68010\n",
      "[177]\tvalidation_0-logloss:0.68006\n",
      "[178]\tvalidation_0-logloss:0.68010\n",
      "[179]\tvalidation_0-logloss:0.68012\n",
      "[180]\tvalidation_0-logloss:0.68009\n",
      "[181]\tvalidation_0-logloss:0.68011\n",
      "[182]\tvalidation_0-logloss:0.68011\n",
      "[183]\tvalidation_0-logloss:0.68013\n",
      "[184]\tvalidation_0-logloss:0.68009\n",
      "[185]\tvalidation_0-logloss:0.68006\n",
      "[186]\tvalidation_0-logloss:0.68011\n",
      "[187]\tvalidation_0-logloss:0.68018\n",
      "[188]\tvalidation_0-logloss:0.68017\n",
      "[189]\tvalidation_0-logloss:0.68018\n",
      "[190]\tvalidation_0-logloss:0.68016\n",
      "[191]\tvalidation_0-logloss:0.68019\n",
      "[192]\tvalidation_0-logloss:0.68022\n",
      "[193]\tvalidation_0-logloss:0.68027\n",
      "Test Accuracy: 0.5611\n",
      "Classification Report on Test Set:\n",
      "              precision    recall  f1-score   support\n",
      "\n",
      "           0       0.72      0.55      0.62       973\n",
      "           1       0.40      0.59      0.47       492\n",
      "\n",
      "    accuracy                           0.56      1465\n",
      "   macro avg       0.56      0.57      0.55      1465\n",
      "weighted avg       0.61      0.56      0.57      1465\n",
      "\n"
     ]
    }
   ],
   "source": [
    "# 5. Create and train the XGBoost model\n",
    "#    - We use early stopping on the validation set to avoid overfitting.\n",
    "params_opt = {\"objective\": \"binary:logistic\", \"max_depth\": 6, \"eta\": 0.01, \"n_estimators\": 300, \"reg_lambda\": 0, \"subsample\": 0.8, \"colsample_bytree\": 0.8, \"colsample_bylevel\": 1,\n",
    "              \"scale_pos_weight\": 2, \n",
    "              \"scoring\": 'neg_log_loss', \"early_stopping_rounds\":20, \"verbosity\": 2\n",
    "              }\n",
    "model = XGBClassifier(**params_opt)\n",
    "\n",
    "model.fit(\n",
    "    X_train,\n",
    "    y_train,\n",
    "    eval_set=[(X_val, y_val)],\n",
    "    verbose=True\n",
    ")\n",
    "\n",
    "# 6. Evaluate the model on the test set\n",
    "y_pred = model.predict(X_test)\n",
    "accuracy = accuracy_score(y_test, y_pred)\n",
    "print(f\"Test Accuracy: {accuracy:.4f}\")\n",
    "\n",
    "# 7. Print a classification report for detailed metrics\n",
    "print(\"Classification Report on Test Set:\")\n",
    "print(classification_report(y_test, y_pred))"
   ]
  },
  {
   "cell_type": "code",
   "execution_count": null,
   "metadata": {},
   "outputs": [],
   "source": []
  }
 ],
 "metadata": {
  "kernelspec": {
   "display_name": "venv",
   "language": "python",
   "name": "python3"
  },
  "language_info": {
   "codemirror_mode": {
    "name": "ipython",
    "version": 3
   },
   "file_extension": ".py",
   "mimetype": "text/x-python",
   "name": "python",
   "nbconvert_exporter": "python",
   "pygments_lexer": "ipython3",
   "version": "3.12.3"
  }
 },
 "nbformat": 4,
 "nbformat_minor": 2
}
