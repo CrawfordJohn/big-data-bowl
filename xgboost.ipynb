{
 "cells": [
  {
   "cell_type": "code",
   "execution_count": null,
   "metadata": {},
   "outputs": [
    {
     "ename": "",
     "evalue": "",
     "output_type": "error",
     "traceback": [
      "\u001b[1;31mThe Kernel crashed while executing code in the current cell or a previous cell. \n",
      "\u001b[1;31mPlease review the code in the cell(s) to identify a possible cause of the failure. \n",
      "\u001b[1;31mClick <a href='https://aka.ms/vscodeJupyterKernelCrash'>here</a> for more info. \n",
      "\u001b[1;31mView Jupyter <a href='command:jupyter.viewOutput'>log</a> for further details."
     ]
    }
   ],
   "source": [
    "import pandas as pd\n",
    "import numpy as np\n",
    "import matplotlib.pyplot as plt\n",
    "import seaborn as sns\n",
    "import plotly.graph_objects as go"
   ]
  },
  {
   "cell_type": "code",
   "execution_count": null,
   "metadata": {},
   "outputs": [],
   "source": [
    "project_dir = \".\"\n",
    "# games = pd.read_csv(f'{project_dir}/games.csv')\n",
    "# plays = pd.read_csv(f'{project_dir}/plays.csv')\n",
    "# players = pd.read_csv(f'{project_dir}/players.csv')\n",
    "tracking_df = pd.read_csv(f'{project_dir}/tracking_week_2.csv')\n",
    "player_play = pd.read_csv(f'{project_dir}/player_play.csv')"
   ]
  },
  {
   "cell_type": "code",
   "execution_count": null,
   "metadata": {},
   "outputs": [],
   "source": [
    "player_play_data_filtered = player_play[['gameId', 'playId', 'nflId', 'causedPressure']]\n",
    "tracking_data_filtered = tracking_df[['gameId', 'playId', 'nflId', 'x', 'y', 's', 'a', 'dis', 'o', 'dir']]\n",
    "\n",
    "# Merge the datasets on 'gameId', 'playId', and 'nflId'\n",
    "merged_data = pd.merge(tracking_data_filtered, player_play_data_filtered, \n",
    "                        on=['gameId', 'playId', 'nflId'], how='inner')\n",
    "\n",
    "# Ensure 'causedPressure' is the target variable (y)\n",
    "merged_data['causedPressure'] = merged_data['causedPressure'].astype(int)  # Convert to binary if not already\n",
    "\n",
    "print(\"Merged dataset shape:\", merged_data.shape)"
   ]
  }
 ],
 "metadata": {
  "kernelspec": {
   "display_name": ".venv",
   "language": "python",
   "name": "python3"
  },
  "language_info": {
   "codemirror_mode": {
    "name": "ipython",
    "version": 3
   },
   "file_extension": ".py",
   "mimetype": "text/x-python",
   "name": "python",
   "nbconvert_exporter": "python",
   "pygments_lexer": "ipython3",
   "version": "3.12.6"
  }
 },
 "nbformat": 4,
 "nbformat_minor": 2
}
