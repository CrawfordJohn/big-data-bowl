{
 "cells": [
  {
   "cell_type": "code",
   "execution_count": 15,
   "metadata": {},
   "outputs": [
    {
     "name": "stdout",
     "output_type": "stream",
     "text": [
      "JobID         MaxVMSize  MaxVMSizeNode  MaxVMSizeTask  AveVMSize     MaxRSS MaxRSSNode MaxRSSTask     AveRSS MaxPages MaxPagesNode   MaxPagesTask   AvePages     MinCPU MinCPUNode MinCPUTask     AveCPU   NTasks AveCPUFreq ReqCPUFreqMin ReqCPUFreqMax ReqCPUFreqGov ConsumedEnergy  MaxDiskRead MaxDiskReadNode MaxDiskReadTask  AveDiskRead MaxDiskWrite MaxDiskWriteNode MaxDiskWriteTask AveDiskWrite TRESUsageInAve TRESUsageInMax TRESUsageInMaxNode TRESUsageInMaxTask TRESUsageInMin TRESUsageInMinNode TRESUsageInMinTask TRESUsageInTot TRESUsageOutAve TRESUsageOutMax TRESUsageOutMaxNode TRESUsageOutMaxTask TRESUsageOutMin TRESUsageOutMinNode TRESUsageOutMinTask TRESUsageOutTot \n",
      "------------ ---------- -------------- -------------- ---------- ---------- ---------- ---------- ---------- -------- ------------ -------------- ---------- ---------- ---------- ---------- ---------- -------- ---------- ------------- ------------- ------------- -------------- ------------ --------------- --------------- ------------ ------------ ---------------- ---------------- ------------ -------------- -------------- ------------------ ------------------ -------------- ------------------ ------------------ -------------- --------------- --------------- ------------------- ------------------- --------------- ------------------- ------------------- --------------- \n",
      "54017645.0     3902572K     c0709a-s30              0   3659288K   2180892K c0709a-s30          0   1825880K       23   c0709a-s30              0         23   00:00:25 c0709a-s30          0   00:00:25        1     65.19M       Unknown       Unknown       Unknown                  1501305490      c0709a-s30               0   1501305490    669408594       c0709a-s30                0    669408594 cpu=00:00:25,+ cpu=00:00:25,+ cpu=c0709a-s30,en+ cpu=00:00:00,fs/d+ cpu=00:00:25,+ cpu=c0709a-s30,en+ cpu=00:00:00,fs/d+ cpu=00:00:25,+ energy=0,fs/di+ energy=0,fs/di+ energy=c0709a-s30,+           fs/disk=0 energy=0,fs/di+ energy=c0709a-s30,+           fs/disk=0 energy=0,fs/di+ \n"
     ]
    }
   ],
   "source": [
    "! . .venv/bin/activate\n",
    "! sstat -j $SLURM_JOB_ID "
   ]
  },
  {
   "cell_type": "code",
   "execution_count": 16,
   "metadata": {},
   "outputs": [],
   "source": [
    "\n",
    "import pandas as pd\n",
    "import numpy as np\n",
    "import matplotlib.pyplot as plt\n",
    "import seaborn as sns\n",
    "import plotly.graph_objects as go"
   ]
  },
  {
   "cell_type": "code",
   "execution_count": 20,
   "metadata": {},
   "outputs": [],
   "source": [
    "project_dir = \"../../../\"\n",
    "games = pd.read_csv(f'{project_dir}/games.csv')\n",
    "plays = pd.read_csv(f'{project_dir}/plays.csv')\n",
    "players = pd.read_csv(f'{project_dir}/players.csv')\n",
    "tracking_df = pd.read_csv(f'{project_dir}/tracking_week_2.csv')\n",
    "player_play = pd.read_csv(f'{project_dir}/player_play.csv')"
   ]
  },
  {
   "cell_type": "code",
   "execution_count": 26,
   "metadata": {},
   "outputs": [],
   "source": [
    "# Filter for plays where any defensive player caused pressure\n",
    "# Select only rows where 'causedPressure' is True, and keep unique gameId-playId pairs\n",
    "plays_with_pressure = player_play[player_play['causedPressure'] == True][['gameId', 'playId']].drop_duplicates()\n",
    "\n",
    "# Merge plays with plays_with_pressure to create a labeled dataset\n",
    "# Add a new column 'causedPressure' to indicate if pressure was caused on a play\n",
    "# Use a left merge and set '_merge' column to check if the play exists in plays_with_pressure\n",
    "plays['causedPressure'] = plays.merge(plays_with_pressure, on=['gameId', 'playId'], how='left', indicator=True)['_merge'] == 'both'\n",
    "plays['causedPressure'] = plays['causedPressure'].astype(int)  # Convert boolean values to 0/1 \n",
    "\n",
    "# Drop duplicates to ensure unique plays\n",
    "# Keep only one record per gameId-playId pair\n",
    "dataset = plays.drop_duplicates(subset=['gameId', 'playId'])\n",
    "\n",
    "dataset200 = dataset.head(200) # save only 200 rows for viewing\n",
    "output_path = f'ml_friendly_dataset.csv'\n",
    "dataset200.to_csv(output_path, index=False)\n"
   ]
  },
  {
   "cell_type": "markdown",
   "metadata": {},
   "source": [
    "# Feature 1: Offensive Formation"
   ]
  },
  {
   "cell_type": "code",
   "execution_count": 30,
   "metadata": {},
   "outputs": [
    {
     "name": "stdout",
     "output_type": "stream",
     "text": [
      "['EMPTY' 'SHOTGUN' 'PISTOL' 'SINGLEBACK' nan 'JUMBO' 'I_FORM' 'WILDCAT']\n",
      "   formation_EMPTY  formation_EMPTY  formation_I_FORM  formation_I_FORM  \\\n",
      "0             True             True             False             False   \n",
      "1             True             True             False             False   \n",
      "2            False            False             False             False   \n",
      "3            False            False             False             False   \n",
      "4            False            False             False             False   \n",
      "\n",
      "   formation_JUMBO  formation_JUMBO  formation_PISTOL  formation_PISTOL  \\\n",
      "0            False            False             False             False   \n",
      "1            False            False             False             False   \n",
      "2            False            False             False             False   \n",
      "3            False            False             False             False   \n",
      "4            False            False              True              True   \n",
      "\n",
      "   formation_SHOTGUN  formation_SHOTGUN  formation_SINGLEBACK  \\\n",
      "0              False              False                 False   \n",
      "1              False              False                 False   \n",
      "2               True               True                 False   \n",
      "3               True               True                 False   \n",
      "4              False              False                 False   \n",
      "\n",
      "   formation_SINGLEBACK  formation_WILDCAT  formation_WILDCAT  \n",
      "0                 False              False              False  \n",
      "1                 False              False              False  \n",
      "2                 False              False              False  \n",
      "3                 False              False              False  \n",
      "4                 False              False              False  \n"
     ]
    }
   ],
   "source": [
    "# Feature 1: offenseFormation\n",
    "unique_offense_formations = dataset['offenseFormation'].unique()\n",
    "print(unique_offense_formations)\n",
    "\n",
    "# One hot encode the offensive formation\n",
    "one_hot_encoded_formations = pd.get_dummies(dataset['offenseFormation'], prefix='formation')\n",
    "dataset = pd.concat([dataset, one_hot_encoded_formations], axis=1)\n",
    "\n",
    "# Print the new offensive formations\n",
    "print(dataset[['formation_EMPTY', 'formation_I_FORM', 'formation_JUMBO', 'formation_PISTOL', 'formation_SHOTGUN', 'formation_SINGLEBACK', 'formation_WILDCAT']].head())\n"
   ]
  }
 ],
 "metadata": {
  "kernelspec": {
   "display_name": "Python 3 (ipykernel)",
   "language": "python",
   "name": "python3"
  },
  "language_info": {
   "codemirror_mode": {
    "name": "ipython",
    "version": 3
   },
   "file_extension": ".py",
   "mimetype": "text/x-python",
   "name": "python",
   "nbconvert_exporter": "python",
   "pygments_lexer": "ipython3",
   "version": "3.12.6"
  }
 },
 "nbformat": 4,
 "nbformat_minor": 2
}
