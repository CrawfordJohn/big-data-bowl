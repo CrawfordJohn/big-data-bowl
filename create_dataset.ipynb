{
 "cells": [
  {
   "cell_type": "markdown",
   "metadata": {},
   "source": [
    "tracking_data_setup.py -> this notebook -> model_train.ipynb"
   ]
  },
  {
   "cell_type": "code",
   "execution_count": 402,
   "metadata": {},
   "outputs": [],
   "source": [
    "import pandas as pd\n",
    "import numpy as np\n",
    "import matplotlib.pyplot as plt\n",
    "import seaborn as sns\n",
    "from scipy.stats import multivariate_normal\n",
    "from scipy.special import gammaln\n",
    "from scipy.optimize import minimize"
   ]
  },
  {
   "cell_type": "markdown",
   "metadata": {},
   "source": [
    "## Load Data"
   ]
  },
  {
   "cell_type": "markdown",
   "metadata": {},
   "source": [
    "# Feature Creation"
   ]
  },
  {
   "cell_type": "markdown",
   "metadata": {},
   "source": [
    "Tracking features created in trackin_data_setup.py but code replicated here to easily debug"
   ]
  },
  {
   "cell_type": "markdown",
   "metadata": {},
   "source": [
    "## Non-Tracking Features"
   ]
  },
  {
   "cell_type": "markdown",
   "metadata": {},
   "source": [
    "Close Endzone: within 5 yards of a touchdown (hypothesis: less pressure because shorter and quicker passes) <br>\n",
    "Close Safety: within 5 yards of own endzone (hypothesis: more careful with passing in fear of getting sacked for a safety, so less pressure)"
   ]
  },
  {
   "cell_type": "code",
   "execution_count": 410,
   "metadata": {},
   "outputs": [],
   "source": [
    "model_data = pd.read_csv('model_data.csv')\n",
    "player_play = pd.read_csv('data/player_play.csv')\n",
    "players = pd.read_csv('data/players.csv')"
   ]
  },
  {
   "cell_type": "code",
   "execution_count": 411,
   "metadata": {},
   "outputs": [],
   "source": [
    "model_data.loc[model_data['absoluteYardlineNumber'] < 15, 'close_endzone'] = 1.0\n",
    "model_data['close_endzone'] = model_data['close_endzone'].fillna(0.0)\n",
    "\n",
    "model_data.loc[model_data['absoluteYardlineNumber'] > 100, 'close_safety'] = 1.0\n",
    "model_data['close_safety'] = model_data['close_safety'].fillna(0.0)"
   ]
  },
  {
   "cell_type": "markdown",
   "metadata": {},
   "source": [
    "Two minute drill: In last 2 minutes of quarters 2 and 4 (hypothesis: more aggresive with passes leading to more pressure)"
   ]
  },
  {
   "cell_type": "code",
   "execution_count": 412,
   "metadata": {},
   "outputs": [],
   "source": [
    "def time_to_minutes(time_str):\n",
    "    minutes, seconds = map(int, time_str.split(\":\"))\n",
    "    return minutes + (seconds / 60)\n",
    "\n",
    "model_data['gameClock'] = model_data['gameClock'].apply(lambda x: time_to_minutes(x))\n",
    "model_data.loc[(model_data['quarter'].isin([2, 4])) & (model_data['gameClock'] < 2), 'two_minute_drill'] = 1.0\n",
    "model_data['two_minute_drill'] = model_data['two_minute_drill'].fillna(0.0)"
   ]
  },
  {
   "cell_type": "markdown",
   "metadata": {},
   "source": [
    "Critical down: 3rd or 4th down (much more pressure on 3rd and 4th down compared to 1st or 2nd)"
   ]
  },
  {
   "cell_type": "code",
   "execution_count": 413,
   "metadata": {},
   "outputs": [],
   "source": [
    "model_data.loc[model_data['down'].isin([3, 4]), 'critical_down'] = 1.0\n",
    "model_data['critical_down'] = model_data['critical_down'].fillna(0.0)"
   ]
  },
  {
   "cell_type": "markdown",
   "metadata": {},
   "source": [
    "Average yards to go: remaining yards for a first divided by remaining plays (1st down = 3 plays, 2nd down = 2 plays, 3rd down = 1 play, 4th down = 1 play) <br>\n",
    "long_distance: 1 if over 5 average yards to go, 0 if not (more pressure if further yards to go)"
   ]
  },
  {
   "cell_type": "code",
   "execution_count": 414,
   "metadata": {},
   "outputs": [],
   "source": [
    "model_data['avg_yards_to_go'] = model_data['yardsToGo']/(4-model_data['down'].clip(upper=3))\n",
    "model_data.loc[model_data['avg_yards_to_go'] > 5, 'long_distance'] = 1.0\n",
    "model_data['long_distance'] = model_data['long_distance'].fillna(0.0)"
   ]
  },
  {
   "cell_type": "markdown",
   "metadata": {},
   "source": [
    "Score differential: offense score - defense score <br>\n",
    "Big score diff: 1 if down 14 or more points, 0 if not (more pressure if teams are getting more aggresive because they are down by two scores)"
   ]
  },
  {
   "cell_type": "code",
   "execution_count": 415,
   "metadata": {},
   "outputs": [],
   "source": [
    "#model_data = pd.merge(model_data, games.loc[:, ['gameId', 'homeTeamAbbr', 'visitorTeamAbbr', 'week']], on = 'gameId', how ='left')\n",
    "model_data.loc[model_data['possessionTeam'] == model_data['homeTeamAbbr'], 'score_diff'] = model_data['preSnapHomeScore'] - model_data['preSnapVisitorScore'] \n",
    "model_data.loc[model_data['possessionTeam'] == model_data['visitorTeamAbbr'], 'score_diff'] = model_data['preSnapVisitorScore'] - model_data['preSnapHomeScore'] \n",
    "model_data['binned_score_diff'] = pd.qcut(model_data['score_diff'], q=8)\n",
    "model_data.loc[model_data['score_diff'] <= -14, 'big_score_diff'] = 1.0\n",
    "model_data['big_score_diff'] = model_data['big_score_diff'].fillna(0.0)"
   ]
  },
  {
   "cell_type": "markdown",
   "metadata": {},
   "source": [
    "low play clock: play clock is under 4 seconds, meaning the defensive line has a better chance to time the snap and generate more pressure"
   ]
  },
  {
   "cell_type": "code",
   "execution_count": 416,
   "metadata": {},
   "outputs": [],
   "source": [
    "model_data.loc[model_data['playClockAtSnap'] < 4, 'low_play_clock'] = 1.0\n",
    "model_data['low_play_clock'] = model_data['low_play_clock'].fillna(0.0)"
   ]
  },
  {
   "cell_type": "code",
   "execution_count": 417,
   "metadata": {},
   "outputs": [],
   "source": [
    "model_data['expected_point_bucket'] = pd.qcut(model_data['expectedPoints'], q=  3, labels=[0, 1, 2])"
   ]
  },
  {
   "cell_type": "markdown",
   "metadata": {},
   "source": [
    "## Player Specific Features"
   ]
  },
  {
   "cell_type": "code",
   "execution_count": 418,
   "metadata": {},
   "outputs": [],
   "source": [
    "qbs = pd.merge(player_play, players.loc[:, ['nflId', 'position', 'displayName']], on = 'nflId', how='left')\n",
    "qbs = qbs.loc[qbs['position'] == 'QB']\n",
    "model_data = pd.merge(model_data, qbs.loc[:, ['gameId', 'playId', 'nflId', 'displayName']], on = ['gameId', 'playId'], how = 'left')\n",
    "model_data = model_data.rename({'nflId':'qbId', 'displayName':'qbName'}, axis=1)\n",
    "pressure_rate = model_data.groupby('qbId')['causedPressure'].agg(['sum', 'count'])\n",
    "overall_mean = model_data['causedPressure'].mean()"
   ]
  },
  {
   "cell_type": "code",
   "execution_count": 419,
   "metadata": {},
   "outputs": [
    {
     "name": "stdout",
     "output_type": "stream",
     "text": [
      "Fitted parameters: alpha = 20.02, beta = 39.59\n"
     ]
    }
   ],
   "source": [
    "def beta_binomial_pmf(k, n, alpha, beta):\n",
    "    \"\"\"\n",
    "    Probability mass function for the beta-binomial distribution\n",
    "    \n",
    "    Parameters:\n",
    "    k: number of successes\n",
    "    n: number of trials\n",
    "    alpha, beta: parameters of the beta distribution\n",
    "    \"\"\"\n",
    "    pmf = np.exp(\n",
    "        gammaln(n + 1) - gammaln(k + 1) - gammaln(n - k + 1) +\n",
    "        gammaln(k + alpha) + gammaln(n - k + beta) - gammaln(n + alpha + beta) +\n",
    "        gammaln(alpha + beta) - gammaln(alpha) - gammaln(beta)\n",
    "    )\n",
    "    return pmf\n",
    "\n",
    "def neg_log_likelihood(params, data):\n",
    "    \"\"\"\n",
    "    Negative log likelihood function for the beta-binomial distribution\n",
    "    \n",
    "    Parameters:\n",
    "    params: [alpha, beta]\n",
    "    data: list of tuples (successes, trials)\n",
    "    \"\"\"\n",
    "    alpha, beta = params\n",
    "    if alpha <= 0 or beta <= 0:  # Parameters must be positive\n",
    "        return np.inf\n",
    "    \n",
    "    log_likelihood = 0\n",
    "    for successes, trials in data:\n",
    "        p = beta_binomial_pmf(successes, trials, alpha, beta)\n",
    "        if p > 0:\n",
    "            log_likelihood += np.log(p)\n",
    "        else:\n",
    "            return np.inf\n",
    "    \n",
    "    return -log_likelihood\n",
    "\n",
    "def fit_beta_binomial(data, overall_mean):\n",
    "    \"\"\"\n",
    "    Fit beta-binomial distribution using MLE with constraint alpha/(alpha+beta) = overall_mean\n",
    "    \n",
    "    Parameters:\n",
    "    data: list of tuples (successes, trials)\n",
    "    overall_mean: target mean rate\n",
    "    \n",
    "    Returns:\n",
    "    alpha, beta: optimized parameters\n",
    "    \"\"\"\n",
    "    def objective(x):\n",
    "        # x is alpha, beta is determined by constraint\n",
    "        alpha = x[0]\n",
    "        beta = alpha * (1 - overall_mean) / overall_mean\n",
    "        return neg_log_likelihood([alpha, beta], data)\n",
    "    \n",
    "    # Initial guess for alpha (try a few values)\n",
    "    best_result = None\n",
    "    best_value = np.inf\n",
    "    \n",
    "    for init_alpha in [1, 5, 10, 20]:\n",
    "        result = minimize(\n",
    "            objective,\n",
    "            x0=[init_alpha],\n",
    "            method='L-BFGS-B',\n",
    "            bounds=[(0.0001, None)],\n",
    "        )\n",
    "        \n",
    "        if result.fun < best_value:\n",
    "            best_value = result.fun\n",
    "            best_result = result\n",
    "    \n",
    "    final_alpha = best_result.x[0]\n",
    "    final_beta = final_alpha * (1 - overall_mean) / overall_mean\n",
    "    \n",
    "    return final_alpha, final_beta\n",
    "\n",
    "# Example data: list of (successes, trials) for each player\n",
    "data_tups = list(pressure_rate.itertuples(index=False, name=None))     # Player 3: 3 successes in 5 trials\n",
    "\n",
    "# Calculate overall mean from data\n",
    "overall_mean = model_data['causedPressure'].mean()\n",
    "\n",
    "# Fit the model\n",
    "alpha, beta = fit_beta_binomial(data_tups, overall_mean)\n",
    "print(f\"Fitted parameters: alpha = {alpha:.2f}, beta = {beta:.2f}\")"
   ]
  },
  {
   "cell_type": "code",
   "execution_count": 420,
   "metadata": {},
   "outputs": [],
   "source": [
    "model_data[['qb_current_pressure_count', 'qb_current_tot_snaps']] = model_data.groupby('qbId')['causedPressure'].agg(['cumsum', 'cumcount'])"
   ]
  },
  {
   "cell_type": "code",
   "execution_count": 421,
   "metadata": {},
   "outputs": [],
   "source": [
    "model_data['qb_current_pressure_count'] += alpha\n",
    "model_data['qb_current_tot_snaps'] += (alpha + beta)"
   ]
  },
  {
   "cell_type": "code",
   "execution_count": 422,
   "metadata": {},
   "outputs": [],
   "source": [
    "model_data['current_pressure_rate'] = model_data['qb_current_pressure_count'] / model_data['qb_current_tot_snaps']"
   ]
  },
  {
   "cell_type": "code",
   "execution_count": 423,
   "metadata": {},
   "outputs": [],
   "source": [
    "model_data.to_csv('model_data.csv')"
   ]
  },
  {
   "cell_type": "markdown",
   "metadata": {},
   "source": [
    "## Tracking Features"
   ]
  },
  {
   "cell_type": "markdown",
   "metadata": {},
   "source": [
    "* currently only set up for week 1 as prototype"
   ]
  },
  {
   "cell_type": "code",
   "execution_count": 387,
   "metadata": {},
   "outputs": [],
   "source": [
    "tracking_raw = pd.read_csv('data/tracking_week_1.csv')"
   ]
  },
  {
   "cell_type": "code",
   "execution_count": 388,
   "metadata": {},
   "outputs": [],
   "source": [
    "tracking = pd.merge(tracking_raw, plays.loc[:, ['gameId', 'playId', 'absoluteYardlineNumber']], on = ['gameId', 'playId'], how='left') #add absoluteYardLine"
   ]
  },
  {
   "cell_type": "code",
   "execution_count": 389,
   "metadata": {},
   "outputs": [],
   "source": [
    "def set_up_tracking(tracking_data):\n",
    "    \"\"\"\n",
    "    Filters tracking data to last frame before the snap, adds player positions, and creates distance from line of scrimmage column\n",
    "    \"\"\"\n",
    "    #Set up tracking data\n",
    "    tracking_pre_snap = tracking_data[tracking_data['frameType'] == \"BEFORE_SNAP\"]\n",
    "    tracking_pre_snap = pd.merge(tracking_pre_snap, plays[['gameId', 'playId', 'isDropback']], on = ['gameId', 'playId'], how = 'inner')\n",
    "    tracking_pre_snap = tracking_pre_snap[tracking_pre_snap['isDropback']]\n",
    "\n",
    "    tracking_pre_snap = tracking_pre_snap.groupby(['gameId', 'playId', 'nflId']).last().reset_index()\n",
    "    #add player positions to filter out defensive backs\n",
    "    positions = players[['nflId', 'position']]\n",
    "    tracking_pre_snap = pd.merge(tracking_pre_snap, positions, on = 'nflId', how='inner')\n",
    "    #find vertical distance between player and football\n",
    "    tracking_pre_snap['distance_from_line'] = np.abs(tracking_pre_snap['x'] - tracking_pre_snap['absoluteYardlineNumber'])\n",
    "\n",
    "    #create binary column for offense or defense    \n",
    "    position_dict = {\n",
    "    'G':1, 'DT':0, 'C':1, 'DE':0, 'T':1, 'NT':0, 'OLB':0, 'MLB':0, 'ILB':0, 'LB':0, 'WR':1, 'CB':0, 'QB':1, 'SS':0, 'RB':1, 'TE':1, 'FS':0, 'FB':1, 'DB':0\n",
    "    }\n",
    "    tracking_pre_snap['isOffense'] = tracking_pre_snap['position'].map(position_dict)\n",
    "    return tracking_pre_snap"
   ]
  },
  {
   "cell_type": "code",
   "execution_count": 390,
   "metadata": {},
   "outputs": [],
   "source": [
    "def create_linspread_feature(model_data, tracking_pre_snap):\n",
    "    \"\"\"\n",
    "    Takes tracking data and calculates the spread among defensive lineman (max y - min y of defensive lineman) before the snap and returns this as a feature in the overall model_data\n",
    "    \"\"\"\n",
    "    tracking_pre_snap = tracking_pre_snap[tracking_pre_snap['position'].isin(['DE', 'NT', 'SS', 'FS', 'OLB', 'DT', 'CB', 'ILB', 'MLB', 'DB', 'LB'])]\n",
    "    #filter out DBs and have other players need to be within 1.5 yards of the ball to be determined on the line\n",
    "    line_spread = tracking_pre_snap.loc[(tracking_pre_snap['distance_from_line'] <= 2) & ~(tracking_pre_snap['position'].isin(['SS', 'FS', 'DB', 'CB']))]\n",
    "    #find minimum horziontal and maximum horizontal position of filtered lineman\n",
    "    spread = line_spread.groupby(['gameId', 'playId'])['y'].agg(['max', 'min']).reset_index()\n",
    "    #calculate dline spread\n",
    "    spread['dlinespread'] = spread['max'] - spread['min']\n",
    "    model_data = pd.merge(model_data, spread.loc[:,['gameId', 'playId', 'dlinespread']], on = ['gameId', 'playId'], how='left')\n",
    "    return model_data"
   ]
  },
  {
   "cell_type": "code",
   "execution_count": 391,
   "metadata": {},
   "outputs": [],
   "source": [
    "def create_max_distance_to_offense(model_data, tracking_df):\n",
    "    \"\"\"\n",
    "    Calculates minimum distance to an offensive lineman for each defensive lineman, and takes the max of these distances for each play and returns it as a feature in model_data\n",
    "    \"\"\"\n",
    "    lineman = tracking_df.loc[(tracking_df['distance_from_line'] <= 2) & (tracking_df['position'].isin(['DE', 'NT', 'OLB', 'DT', 'ILB', 'MLB', 'LB', 'G', 'C', 'T']))].copy()\n",
    "    lineman.loc[:, 'max_distance_to_offense'] = np.nan\n",
    "    for (game, play), play_df in lineman.groupby(['gameId', 'playId']):\n",
    "        offense = play_df[play_df['isOffense'] == 1]\n",
    "        defense = play_df[play_df['isOffense'] == 0]\n",
    "\n",
    "        offense_coords = offense[['x', 'y']].values\n",
    "        defense_coords = defense[['x', 'y']].values\n",
    "\n",
    "        distances = np.sqrt(\n",
    "                ((defense_coords[:, np.newaxis, 0] - offense_coords[:, 0]) ** 2) +\n",
    "                ((defense_coords[:, np.newaxis, 1] - offense_coords[:, 1]) ** 2)\n",
    "            )\n",
    "        \n",
    "        min_distances = distances.min(axis=1)\n",
    "\n",
    "        lineman.loc[defense.index, 'max_distance_to_offense'] = min_distances\n",
    "\n",
    "    max_lineman_dist = lineman.groupby(['gameId', 'playId'])['max_distance_to_offense'].max().reset_index()\n",
    "    model_data = pd.merge(model_data, max_lineman_dist, on =['gameId', 'playId'], how = 'left')\n",
    "    return model_data"
   ]
  },
  {
   "cell_type": "code",
   "execution_count": 392,
   "metadata": {},
   "outputs": [],
   "source": [
    "def find_gap_coords(tracking_df):\n",
    "    olineman = tracking_df.loc[(tracking_df['position'].isin(['DE', 'NT', 'OLB', 'DT', 'ILB', 'MLB', 'LB', 'G', 'C', 'T']) & (tracking_df['isOffense'] == 1))].copy()\n",
    "    results = []\n",
    "    for (gameId, playId), group in olineman.groupby(['gameId', 'playId']):\n",
    "        coords = group.sort_values('y')[['x', 'y']]\n",
    "        gaps = [(coords.iloc[0, 0], coords.iloc[0, 1] - 1.5)]\n",
    "        for i in range(len(coords)-1):\n",
    "            gap_x = (coords.iloc[i, 0] + coords.iloc[i+1, 0]) / 2\n",
    "            gap_y = (coords.iloc[i, 1] + coords.iloc[i+1, 1]) / 2\n",
    "            gaps.append((gap_x, gap_y))\n",
    "        gaps.append((coords.iloc[4, 0], coords.iloc[4, 1] + 1.5))\n",
    "        results.append({'gameId':gameId, 'playId':playId, 'gaps':gaps})\n",
    "    gaps_df = pd.DataFrame(results)\n",
    "    return gaps_df\n",
    "\n",
    "def find_dline_coords(tracking_df):\n",
    "    dlineman = tracking_df.loc[(tracking_df['distance_from_line'] <= 2) & (tracking_df['position'].isin(['DE', 'NT', 'OLB', 'DT', 'ILB', 'MLB', 'LB']))].copy()\n",
    "    results = []\n",
    "    for (gameId, playId), group in dlineman.groupby(['gameId', 'playId']):\n",
    "        coords = group.sort_values('y')\n",
    "        coords = list(zip(coords['x'], coords['y']))\n",
    "        results.append({'gameId':gameId, 'playId':playId, 'dline_coords':coords})\n",
    "    dline_coords_df = pd.DataFrame(results)\n",
    "    return dline_coords_df\n"
   ]
  },
  {
   "cell_type": "code",
   "execution_count": 393,
   "metadata": {},
   "outputs": [],
   "source": [
    "tracking_df = set_up_tracking(tracking)"
   ]
  },
  {
   "cell_type": "code",
   "execution_count": 394,
   "metadata": {},
   "outputs": [],
   "source": [
    "model_data = create_linspread_feature(model_data, tracking_df)\n",
    "model_data = create_max_distance_to_offense(model_data, tracking_df)"
   ]
  },
  {
   "cell_type": "code",
   "execution_count": 395,
   "metadata": {},
   "outputs": [],
   "source": [
    "def build_gap_influence(model_data, tracking_df, sigma):\n",
    "    dline_coords_df = find_dline_coords(tracking_df)\n",
    "    gaps_df = find_gap_coords(tracking_df)\n",
    "    dline_influence_df = pd.merge(dline_coords_df, gaps_df, on = ['gameId', 'playId'], how = 'left')\n",
    "\n",
    "    gap_influence = pd.DataFrame(columns=['gameId', 'playId', 'gap1_influence', 'gap2_influence', 'gap3_influence', 'gap4_influence', 'gap5_influence', 'gap6_influence'])\n",
    "    for (gameId, playId), group in dline_influence_df.groupby(['gameId', 'playId']):\n",
    "        d_line = np.array(group['dline_coords'].tolist()).squeeze()\n",
    "        gaps = np.array(group['gaps'].tolist()).squeeze()\n",
    "        n_players = len(d_line)\n",
    "        n_gaps = len(gaps)\n",
    "        influences = np.zeros((n_gaps, n_players))\n",
    "\n",
    "        for i, player_pos in enumerate(d_line):\n",
    "            for j, gap_pos in enumerate(gaps):\n",
    "                distance = np.sum((player_pos - gap_pos)**2)\n",
    "                influences[j, i] =  np.exp(-distance / (2*sigma**2))\n",
    "        \n",
    "        player_columns = [f'Player_{i+1}' for i in range(n_players)]\n",
    "        df_influence = pd.DataFrame(influences, columns=player_columns)\n",
    "        \n",
    "        # Add gap coordinates and total influence\n",
    "        df_influence['Gap_X'] = gaps[:, 0]\n",
    "        df_influence['Gap_Y'] = gaps[:, 1]\n",
    "        df_influence['Total_Influence'] = df_influence[player_columns].sum(axis=1)\n",
    "        if n_gaps == 6:\n",
    "            gap_influence.loc[len(gap_influence)] = [gameId, playId] + df_influence[player_columns].sum(axis=1).tolist()\n",
    "        else:\n",
    "            gap_influence.loc[len(gap_influence)] = [gameId, playId] + df_influence[player_columns].sum(axis=1).tolist()[:6]\n",
    "    model_data = pd.merge(model_data, gap_influence, on = ['gameId', 'playId'], how='left')\n",
    "    return model_data"
   ]
  },
  {
   "cell_type": "code",
   "execution_count": 396,
   "metadata": {},
   "outputs": [],
   "source": [
    "model_data = build_gap_influence(model_data, tracking_df, 2.0)"
   ]
  },
  {
   "cell_type": "code",
   "execution_count": 397,
   "metadata": {},
   "outputs": [],
   "source": [
    "line_proximity = tracking_df.groupby(['gameId', 'playId'])['distance_from_line'].agg({'max', 'mean'}).reset_index()\n",
    "line_proximity = line_proximity.rename({'mean':'avg_def_dist_from_line', 'max':'max_def_dist_from_line'}, axis=1)"
   ]
  },
  {
   "cell_type": "code",
   "execution_count": 398,
   "metadata": {},
   "outputs": [],
   "source": [
    "model_data = pd.merge(model_data, line_proximity, on = ['gameId', 'playId'], how='left')"
   ]
  },
  {
   "cell_type": "code",
   "execution_count": 399,
   "metadata": {},
   "outputs": [],
   "source": [
    "model_data.to_csv('model_data.csv', index=False)"
   ]
  }
 ],
 "metadata": {
  "kernelspec": {
   "display_name": "venv",
   "language": "python",
   "name": "python3"
  },
  "language_info": {
   "codemirror_mode": {
    "name": "ipython",
    "version": 3
   },
   "file_extension": ".py",
   "mimetype": "text/x-python",
   "name": "python",
   "nbconvert_exporter": "python",
   "pygments_lexer": "ipython3",
   "version": "3.12.3"
  }
 },
 "nbformat": 4,
 "nbformat_minor": 2
}
