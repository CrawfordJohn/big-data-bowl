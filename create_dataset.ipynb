{
 "cells": [
  {
   "cell_type": "code",
   "execution_count": 1,
   "metadata": {},
   "outputs": [
    {
     "name": "stdout",
     "output_type": "stream",
     "text": [
      "JobID         MaxVMSize  MaxVMSizeNode  MaxVMSizeTask  AveVMSize     MaxRSS MaxRSSNode MaxRSSTask     AveRSS MaxPages MaxPagesNode   MaxPagesTask   AvePages     MinCPU MinCPUNode MinCPUTask     AveCPU   NTasks AveCPUFreq ReqCPUFreqMin ReqCPUFreqMax ReqCPUFreqGov ConsumedEnergy  MaxDiskRead MaxDiskReadNode MaxDiskReadTask  AveDiskRead MaxDiskWrite MaxDiskWriteNode MaxDiskWriteTask AveDiskWrite TRESUsageInAve TRESUsageInMax TRESUsageInMaxNode TRESUsageInMaxTask TRESUsageInMin TRESUsageInMinNode TRESUsageInMinTask TRESUsageInTot TRESUsageOutAve TRESUsageOutMax TRESUsageOutMaxNode TRESUsageOutMaxTask TRESUsageOutMin TRESUsageOutMinNode TRESUsageOutMinTask TRESUsageOutTot \n",
      "------------ ---------- -------------- -------------- ---------- ---------- ---------- ---------- ---------- -------- ------------ -------------- ---------- ---------- ---------- ---------- ---------- -------- ---------- ------------- ------------- ------------- -------------- ------------ --------------- --------------- ------------ ------------ ---------------- ---------------- ------------ -------------- -------------- ------------------ ------------------ -------------- ------------------ ------------------ -------------- --------------- --------------- ------------------- ------------------- --------------- ------------------- ------------------- --------------- \n",
      "54337536.0     2353840K     c0709a-s30              0   2353840K    314436K c0709a-s30          0    314436K     1660   c0709a-s30              0       1660   00:00:03 c0709a-s30          0   00:00:03        1    115.04M       Unknown       Unknown       Unknown                    86100636      c0709a-s30               0     86100636      1615294       c0709a-s30                0      1615294 cpu=00:00:03,+ cpu=00:00:03,+ cpu=c0709a-s30,en+ cpu=00:00:00,fs/d+ cpu=00:00:03,+ cpu=c0709a-s30,en+ cpu=00:00:00,fs/d+ cpu=00:00:03,+ energy=0,fs/di+ energy=0,fs/di+ energy=c0709a-s30,+           fs/disk=0 energy=0,fs/di+ energy=c0709a-s30,+           fs/disk=0 energy=0,fs/di+ \n"
     ]
    }
   ],
   "source": [
    "! . .venv/bin/activate\n",
    "! sstat -j $SLURM_JOB_ID "
   ]
  },
  {
   "cell_type": "code",
   "execution_count": 2,
   "metadata": {},
   "outputs": [],
   "source": [
    "\n",
    "import pandas as pd\n",
    "import numpy as np\n",
    "import matplotlib.pyplot as plt\n",
    "import seaborn as sns\n",
    "import plotly.graph_objects as go"
   ]
  },
  {
   "cell_type": "code",
   "execution_count": 3,
   "metadata": {},
   "outputs": [],
   "source": [
    "project_dir = \"../../../\"\n",
    "games = pd.read_csv(f'{project_dir}/games.csv')\n",
    "plays = pd.read_csv(f'{project_dir}/plays.csv')\n",
    "players = pd.read_csv(f'{project_dir}/players.csv')\n",
    "tracking_df = pd.read_csv(f'{project_dir}/tracking_week_2.csv')\n",
    "player_play = pd.read_csv(f'{project_dir}/player_play.csv')"
   ]
  },
  {
   "cell_type": "markdown",
   "metadata": {},
   "source": [
    "# Get Plays With Pressure"
   ]
  },
  {
   "cell_type": "code",
   "execution_count": null,
   "metadata": {},
   "outputs": [
    {
     "name": "stdout",
     "output_type": "stream",
     "text": [
      "       gameId  playId  playDescription  quarter  down  yardsToGo  \\\n",
      "0        True    True             True     True  True       True   \n",
      "1        True    True             True     True  True       True   \n",
      "2        True    True             True     True  True       True   \n",
      "3        True    True             True     True  True       True   \n",
      "4        True    True             True     True  True       True   \n",
      "...       ...     ...              ...      ...   ...        ...   \n",
      "16119    True    True             True     True  True       True   \n",
      "16120    True    True             True     True  True       True   \n",
      "16121    True    True             True     True  True       True   \n",
      "16122    True    True             True     True  True       True   \n",
      "16123    True    True             True     True  True       True   \n",
      "\n",
      "       possessionTeam  defensiveTeam  yardlineSide  yardlineNumber  ...  \\\n",
      "0                True           True          True            True  ...   \n",
      "1                True           True          True            True  ...   \n",
      "2                True           True          True            True  ...   \n",
      "3                True           True          True            True  ...   \n",
      "4                True           True          True            True  ...   \n",
      "...               ...            ...           ...             ...  ...   \n",
      "16119            True           True          True            True  ...   \n",
      "16120            True           True          True            True  ...   \n",
      "16121            True           True          True            True  ...   \n",
      "16122            True           True          True            True  ...   \n",
      "16123            True           True          True            True  ...   \n",
      "\n",
      "       homeTeamWinProbabilityAdded  visitorTeamWinProbilityAdded  \\\n",
      "0                             True                          True   \n",
      "1                             True                          True   \n",
      "2                             True                          True   \n",
      "3                             True                          True   \n",
      "4                             True                          True   \n",
      "...                            ...                           ...   \n",
      "16119                         True                          True   \n",
      "16120                         True                          True   \n",
      "16121                         True                          True   \n",
      "16122                         True                          True   \n",
      "16123                         True                          True   \n",
      "\n",
      "       expectedPointsAdded  isDropback  pff_runConceptPrimary  \\\n",
      "0                     True        True                  False   \n",
      "1                     True        True                  False   \n",
      "2                     True        True                  False   \n",
      "3                     True        True                  False   \n",
      "4                     True        True                   True   \n",
      "...                    ...         ...                    ...   \n",
      "16119                 True        True                  False   \n",
      "16120                 True        True                  False   \n",
      "16121                 True        True                  False   \n",
      "16122                 True        True                   True   \n",
      "16123                 True        True                   True   \n",
      "\n",
      "       pff_runConceptSecondary  pff_runPassOption  pff_passCoverage  \\\n",
      "0                        False               True              True   \n",
      "1                        False               True              True   \n",
      "2                        False               True              True   \n",
      "3                        False               True              True   \n",
      "4                         True               True              True   \n",
      "...                        ...                ...               ...   \n",
      "16119                    False               True              True   \n",
      "16120                    False               True              True   \n",
      "16121                    False               True              True   \n",
      "16122                    False               True              True   \n",
      "16123                     True               True              True   \n",
      "\n",
      "       pff_manZone  causedPressure  \n",
      "0             True            True  \n",
      "1             True            True  \n",
      "2             True            True  \n",
      "3             True            True  \n",
      "4             True            True  \n",
      "...            ...             ...  \n",
      "16119         True            True  \n",
      "16120         True            True  \n",
      "16121         True            True  \n",
      "16122         True            True  \n",
      "16123         True            True  \n",
      "\n",
      "[16124 rows x 51 columns]\n"
     ]
    }
   ],
   "source": [
    "# Filter for plays where any defensive player caused pressure\n",
    "# Select only rows where 'causedPressure' is True, and keep unique gameId-playId pairs\n",
    "plays_with_pressure = player_play[player_play['causedPressure'] == True][['gameId', 'playId']].drop_duplicates()\n",
    "\n",
    "# Merge plays with plays_with_pressure to create a labeled dataset\n",
    "# Add a new column 'causedPressure' to indicate if pressure was caused on a play\n",
    "# Use a left merge and set '_merge' column to check if the play exists in plays_with_pressure\n",
    "plays['causedPressure'] = plays.merge(plays_with_pressure, on=['gameId', 'playId'], how='left', indicator=True)['_merge'] == 'both'\n",
    "plays['causedPressure'] = plays['causedPressure'].astype(int)  # Convert boolean values to 0/1 \n",
    "\n",
    "# Drop duplicates to ensure unique plays\n",
    "# Keep only one record per gameId-playId pair\n",
    "dataset2 = plays.drop_duplicates(subset=['gameId', 'playId'])"
   ]
  },
  {
   "cell_type": "markdown",
   "metadata": {},
   "source": [
    "# Filter out irrelevant plays"
   ]
  },
  {
   "cell_type": "code",
   "execution_count": null,
   "metadata": {},
   "outputs": [],
   "source": [
    "# Print plays with pressure that last more than 5 seconds\n",
    "plays_with_pressure = dataset2[dataset2['causedPressure'] == 1]\n"
   ]
  },
  {
   "cell_type": "markdown",
   "metadata": {},
   "source": [
    "# Feature 1: Offensive Formation"
   ]
  },
  {
   "cell_type": "code",
   "execution_count": 5,
   "metadata": {},
   "outputs": [
    {
     "name": "stdout",
     "output_type": "stream",
     "text": [
      "['EMPTY' 'SHOTGUN' 'PISTOL' 'SINGLEBACK' nan 'JUMBO' 'I_FORM' 'WILDCAT']\n",
      "   formation_EMPTY  formation_I_FORM  formation_JUMBO  formation_PISTOL  \\\n",
      "0             True             False            False             False   \n",
      "1             True             False            False             False   \n",
      "2            False             False            False             False   \n",
      "3            False             False            False             False   \n",
      "4            False             False            False              True   \n",
      "\n",
      "   formation_SHOTGUN  formation_SINGLEBACK  formation_WILDCAT  \n",
      "0              False                 False              False  \n",
      "1              False                 False              False  \n",
      "2               True                 False              False  \n",
      "3               True                 False              False  \n",
      "4              False                 False              False  \n",
      "188\n"
     ]
    }
   ],
   "source": [
    "# Feature 1: offenseFormation\n",
    "unique_offense_formations = dataset['offenseFormation'].unique()\n",
    "print(unique_offense_formations)\n",
    "\n",
    "# One hot encode the offensive formation\n",
    "one_hot_encoded_offense_formations = pd.get_dummies(dataset['offenseFormation'], prefix='formation')\n",
    "ml_dataset = pd.concat([dataset, one_hot_encoded_offense_formations], axis=1) \n",
    "\n",
    "# Print the new offensive formations\n",
    "offense_cols = one_hot_encoded_offense_formations.columns\n",
    "print(ml_dataset[offense_cols].head())\n",
    "\n",
    "#Print how many are nan \n",
    "print(ml_dataset['offenseFormation'].isnull().sum())\n",
    "\n",
    "\n"
   ]
  },
  {
   "cell_type": "markdown",
   "metadata": {},
   "source": [
    "# Feature 2: Defensive Formation"
   ]
  },
  {
   "cell_type": "code",
   "execution_count": 6,
   "metadata": {},
   "outputs": [
    {
     "name": "stdout",
     "output_type": "stream",
     "text": [
      "   formation_2-Man  formation_Bracket  formation_Cover 6-Left  \\\n",
      "0            False              False                   False   \n",
      "1            False              False                   False   \n",
      "2            False              False                   False   \n",
      "3            False              False                   False   \n",
      "4            False              False                   False   \n",
      "\n",
      "   formation_Cover-0  formation_Cover-1  formation_Cover-1 Double  \\\n",
      "0              False              False                     False   \n",
      "1              False              False                     False   \n",
      "2              False              False                     False   \n",
      "3              False              False                     False   \n",
      "4              False               True                     False   \n",
      "\n",
      "   formation_Cover-2  formation_Cover-3  formation_Cover-3 Cloud Left  \\\n",
      "0              False               True                         False   \n",
      "1              False              False                         False   \n",
      "2              False              False                         False   \n",
      "3              False              False                         False   \n",
      "4              False              False                         False   \n",
      "\n",
      "   formation_Cover-3 Cloud Right  formation_Cover-3 Double Cloud  \\\n",
      "0                          False                           False   \n",
      "1                          False                           False   \n",
      "2                          False                           False   \n",
      "3                          False                           False   \n",
      "4                          False                           False   \n",
      "\n",
      "   formation_Cover-3 Seam  formation_Cover-6 Right  formation_Goal Line  \\\n",
      "0                   False                    False                False   \n",
      "1                   False                    False                False   \n",
      "2                   False                    False                False   \n",
      "3                   False                    False                False   \n",
      "4                   False                    False                False   \n",
      "\n",
      "   formation_Miscellaneous  formation_Prevent  formation_Quarters  \\\n",
      "0                    False              False               False   \n",
      "1                    False              False                True   \n",
      "2                    False              False                True   \n",
      "3                    False              False                True   \n",
      "4                    False              False               False   \n",
      "\n",
      "   formation_Red Zone  \n",
      "0               False  \n",
      "1               False  \n",
      "2               False  \n",
      "3               False  \n",
      "4               False  \n"
     ]
    }
   ],
   "source": [
    "# One hot encode the defensive formation\n",
    "one_hot_encoded_defense_formations = pd.get_dummies(dataset['pff_passCoverage'], prefix='formation')\n",
    "ml_dataset = pd.concat([ml_dataset, one_hot_encoded_defense_formations], axis=1)\n",
    "\n",
    "# Get the new defensive formations columns\n",
    "defense_cols = one_hot_encoded_defense_formations.columns\n",
    "print(ml_dataset[defense_cols].head())\n",
    "\n",
    "# num_miscellaneous = ml_dataset['formation_Miscellaneous'].sum()\n",
    "# print(f\"Number of rows with formation_Miscellaneous: {num_miscellaneous}\")\n"
   ]
  },
  {
   "cell_type": "markdown",
   "metadata": {},
   "source": [
    "# Additional Features: "
   ]
  },
  {
   "cell_type": "code",
   "execution_count": 7,
   "metadata": {},
   "outputs": [],
   "source": [
    "additional_features =  ['causedPressure'] + ['quarter'] + ['down'] + ['yardsToGo'] "
   ]
  },
  {
   "cell_type": "markdown",
   "metadata": {},
   "source": [
    "# Get final dataset"
   ]
  },
  {
   "cell_type": "code",
   "execution_count": 8,
   "metadata": {},
   "outputs": [
    {
     "name": "stdout",
     "output_type": "stream",
     "text": [
      "Index(['formation_EMPTY', 'formation_I_FORM', 'formation_JUMBO',\n",
      "       'formation_PISTOL', 'formation_SHOTGUN', 'formation_SINGLEBACK',\n",
      "       'formation_WILDCAT', 'formation_2-Man', 'formation_Bracket',\n",
      "       'formation_Cover 6-Left', 'formation_Cover-0', 'formation_Cover-1',\n",
      "       'formation_Cover-1 Double', 'formation_Cover-2', 'formation_Cover-3',\n",
      "       'formation_Cover-3 Cloud Left', 'formation_Cover-3 Cloud Right',\n",
      "       'formation_Cover-3 Double Cloud', 'formation_Cover-3 Seam',\n",
      "       'formation_Cover-6 Right', 'formation_Goal Line',\n",
      "       'formation_Miscellaneous', 'formation_Prevent', 'formation_Quarters',\n",
      "       'formation_Red Zone', 'causedPressure', 'quarter', 'down', 'yardsToGo'],\n",
      "      dtype='object')\n"
     ]
    }
   ],
   "source": [
    "# Select the relevant columns\n",
    "selected_columns = list(offense_cols) + list(defense_cols) + additional_features\n",
    "final_df = ml_dataset[selected_columns]\n",
    "\n",
    "# Display the new dataframe\n",
    "print(final_df.columns)"
   ]
  },
  {
   "cell_type": "markdown",
   "metadata": {},
   "source": [
    "# Balance the Dataset: Undersampling"
   ]
  },
  {
   "cell_type": "code",
   "execution_count": 10,
   "metadata": {},
   "outputs": [
    {
     "name": "stdout",
     "output_type": "stream",
     "text": [
      "Number of rows where causedPressure is 1: 3268\n",
      "Number of rows where causedPressure is 0: 12856\n",
      "After balancing:  (6536, 29)\n"
     ]
    }
   ],
   "source": [
    "# Step 1: Count the number of rows where causedPressure is 1\n",
    "count_pressure_1 = final_df[final_df['causedPressure'] == 1].shape[0]\n",
    "print(f\"Number of rows where causedPressure is 1: {count_pressure_1}\")\n",
    "\n",
    "count_pressure_0 = final_df[final_df['causedPressure'] == 0].shape[0]\n",
    "print(f\"Number of rows where causedPressure is 0: {count_pressure_0}\")\n",
    "\n",
    "# Step 2: Randomly sample the same number of rows where causedPressure is 0\n",
    "sampled_pressure_0 = final_df[final_df['causedPressure'] == 0].sample(n=count_pressure_1, random_state=42)\n",
    "\n",
    "# Step 3: Get all rows where causedPressure is 1\n",
    "pressure_1 = final_df[final_df['causedPressure'] == 1]\n",
    "\n",
    "# Step 4: Concatenate the sampled rows with the rows where causedPressure is 1\n",
    "balanced_final_df = pd.concat([sampled_pressure_0, pressure_1])\n",
    "\n",
    "# Optional: Shuffle the resulting DataFrame\n",
    "balanced_final_df = balanced_final_df.sample(frac=1, random_state=42).reset_index(drop=True)\n",
    "\n",
    "# Print the shape of the balanced DataFrame\n",
    "print(\"After balancing: \", balanced_final_df.shape)\n",
    "\n",
    "# Save to current directory\n",
    "output_path = f'balanced_ml_dataset.csv'\n",
    "balanced_final_df.to_csv(output_path, index=False)"
   ]
  },
  {
   "cell_type": "markdown",
   "metadata": {},
   "source": [
    "# More ideas:\n",
    "-Shift Since Lineset\n",
    "-Use them all and use feature selection\n"
   ]
  }
 ],
 "metadata": {
  "kernelspec": {
   "display_name": "Python 3 (ipykernel)",
   "language": "python",
   "name": "python3"
  },
  "language_info": {
   "codemirror_mode": {
    "name": "ipython",
    "version": 3
   },
   "file_extension": ".py",
   "mimetype": "text/x-python",
   "name": "python",
   "nbconvert_exporter": "python",
   "pygments_lexer": "ipython3",
   "version": "3.12.6"
  }
 },
 "nbformat": 4,
 "nbformat_minor": 2
}
